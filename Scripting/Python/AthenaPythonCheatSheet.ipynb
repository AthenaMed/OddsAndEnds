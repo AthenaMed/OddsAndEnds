{
 "cells": [
  {
   "cell_type": "markdown",
   "metadata": {},
   "source": [
    "## Embed image code in markdown\n",
    "```\n",
    "![alt text](nameofimage.png)\n",
    "```"
   ]
  },
  {
   "cell_type": "markdown",
   "metadata": {},
   "source": [
    "## HTML Span Color Code - works in markdown\n",
    "\n",
    "```\n",
    "<span style=\"color:blue\">blue</span>\n",
    "```"
   ]
  },
  {
   "cell_type": "code",
   "execution_count": null,
   "metadata": {},
   "outputs": [],
   "source": [
    "Here’s how to format Markdown cells in Jupyter notebooks in the IBM Data Science Experience.\n",
    "\n",
    "Headings: Use #s followed by a blank space for notebook titles and section headings:\n",
    "# title\n",
    "## major headings\n",
    "### subheadings\n",
    "#### 4th level subheadings\n",
    "\n",
    "Emphasis: Use this code: Bold: __string__ or **string** Italic: _string_ or *string*\n",
    "\n",
    "Mathematical symbols: Use this code: $ mathematical symbols $\n",
    "\n",
    "Monospace font: Surround text with a back single quotation mark. (`) Use monospace for file path and file names and for text users enter or message text users see.\n",
    "\n",
    "Line breaks: Sometimes markdown doesn’t make line breaks when you want them. Use 2 spaces or this code for a manual line break: <br>\n",
    "\n",
    "Colors: Use this code: <font color=blue|red|green|pink|yellow>Text</font> Not all markdown code works within a font tag, so review your colored text carefully!\n",
    "\n",
    "Indented quoting: Use a greater than sign (>) and then a space, then type the text. The text is indented and has a gray horizontal line to the left of it until the next carriage return.\n",
    "\n",
    "Bullets: Use the dash sign (- ) with a space after it, or a space, a dash, and a space ( - ), to create a circular bullet. To create a sub bullet, use a tab followed a dash and a space. You can also use an asterisk instead of a dash, and it works the same.\n",
    "\n",
    "Numbered lists: Start with 1. followed by a space, then it starts numbering for you. Start each line with some number and a period, then a space. Tab to indent to get subnumbering.\n",
    "\n",
    "Graphics: You can attach image files directly to a notebook only in Markdown cells. Drag and drop your images to the Markdown cell to attach it to the notebook. To add images to other cell types, you can use only graphics that are hosted on the web. You can’t add captions for graphics at this time. Use this code: <img src=\"url.gif\" alt=\"Alt text that describes the graphic\" title=\"Title text\" />\n",
    "\n",
    "Geometric shapes: Use this code with a decimal or hex reference number from here: UTF-8 Geometric shapes\n",
    "&#reference_number;\n",
    "\n",
    "Horizontal lines: Use three asterisks: ***\n",
    "\n",
    "Internal links: To link to a heading, use this code: [heading title](#heading-title) For the text in the parentheses, replace spaces and special characters with a hyphen. Make sure to test all the links!\n",
    "\n",
    "Alternatively, you can add an ID for a heading right above the title. Use this code: <a id=\"heading_ID\"></a> Make sure that the heading_ID is unique within the notebook.\n",
    "\n",
    "Use this code for the link and make sure to test all the links! [heading title](#heading_ID)\n",
    "\n",
    "External links: Use this code and test all links! [link text](http://url)"
   ]
  }
 ],
 "metadata": {
  "interpreter": {
   "hash": "6b3dae2a1cb1eae8f70755aad29d75dfc74023634288a1a2ce83713a67e01fcc"
  },
  "kernelspec": {
   "display_name": "Python 3.10.3 64-bit",
   "language": "python",
   "name": "python3"
  },
  "language_info": {
   "name": "python",
   "version": "3.10.3"
  },
  "orig_nbformat": 4
 },
 "nbformat": 4,
 "nbformat_minor": 2
}
