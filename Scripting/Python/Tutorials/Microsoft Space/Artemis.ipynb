{
 "cells": [
  {
   "cell_type": "markdown",
   "metadata": {},
   "source": [
    "### Microsoft Docs - Discover the role of Python in space exploration\n",
    "https://docs.microsoft.com/en-us/learn/paths/introduction-python-space-exploration-nasa/"
   ]
  },
  {
   "cell_type": "code",
   "execution_count": null,
   "metadata": {},
   "outputs": [],
   "source": [
    "\"Hello World\""
   ]
  },
  {
   "cell_type": "code",
   "execution_count": 3,
   "metadata": {},
   "outputs": [],
   "source": [
    "# Integer Variable\n",
    "numberOfRocks = 5\n",
    "\n",
    "# Float Variable\n",
    "tempInSpace = -457.87\n",
    "\n",
    "# String Variable\n",
    "roverName = \"Artemis Rover\"\n",
    "\n",
    "# Boolean Variable\n",
    "rocketOn = False"
   ]
  },
  {
   "cell_type": "code",
   "execution_count": 2,
   "metadata": {},
   "outputs": [],
   "source": [
    "# Create integer variable named basaltRockCount with value 0\n",
    "basaltRockCount = 0"
   ]
  },
  {
   "cell_type": "code",
   "execution_count": null,
   "metadata": {},
   "outputs": [],
   "source": [
    "# Find out how many miles until rocket reaches moon\n",
    "distanceToMoon = 238855\n",
    "distanceTraveled = 10234\n",
    "distanceToMoon - distanceTraveled"
   ]
  },
  {
   "cell_type": "code",
   "execution_count": null,
   "metadata": {},
   "outputs": [],
   "source": [
    "# Find out how many miles until rocket reaches moon\n",
    "a = 238855\n",
    "b = 10234\n",
    "a - b"
   ]
  },
  {
   "cell_type": "code",
   "execution_count": 5,
   "metadata": {},
   "outputs": [],
   "source": [
    "astronaut = \"Stanley G Love\""
   ]
  },
  {
   "cell_type": "code",
   "execution_count": null,
   "metadata": {},
   "outputs": [],
   "source": [
    "upperCase = astronaut.upper()\n",
    "upperCase"
   ]
  },
  {
   "cell_type": "code",
   "execution_count": null,
   "metadata": {},
   "outputs": [],
   "source": [
    "lowerCase = astronaut.lower()\n",
    "lowerCase"
   ]
  },
  {
   "cell_type": "code",
   "execution_count": null,
   "metadata": {},
   "outputs": [],
   "source": [
    "rocketOutput = \"rOckEt iS A laUncH!\"\n",
    "rocketOutput.capitalize()"
   ]
  },
  {
   "cell_type": "code",
   "execution_count": null,
   "metadata": {},
   "outputs": [],
   "source": [
    "launchLocationCity = \"Cape Canaveral, \"\n",
    "launchLocationState = \"Florida\"\n",
    "launchLocationCity + launchLocationState"
   ]
  },
  {
   "cell_type": "code",
   "execution_count": null,
   "metadata": {},
   "outputs": [],
   "source": [
    "artemisRoverSounds = \"beep beep \"\n",
    "artemisRoverSounds * 3"
   ]
  },
  {
   "cell_type": "code",
   "execution_count": null,
   "metadata": {},
   "outputs": [],
   "source": [
    "# Create a list of common moon rocks\n",
    "rockTypes = [\"basalt\", \"highland\", \"breccia\"]\n",
    "rockTypes"
   ]
  },
  {
   "cell_type": "code",
   "execution_count": null,
   "metadata": {},
   "outputs": [],
   "source": [
    "# A list with rock names and the number of each rock that was found\n",
    "rockTypeAndCount = [\"basalt\", 1, \"highland\", 2.5, \"breccia\", 5]\n",
    "rockTypeAndCount"
   ]
  },
  {
   "cell_type": "code",
   "execution_count": null,
   "metadata": {},
   "outputs": [],
   "source": [
    "rockTypes.append(\"soil\")\n",
    "rockTypes"
   ]
  },
  {
   "cell_type": "code",
   "execution_count": null,
   "metadata": {},
   "outputs": [],
   "source": [
    "rockTypes.pop()\n",
    "rockTypes"
   ]
  },
  {
   "cell_type": "code",
   "execution_count": null,
   "metadata": {},
   "outputs": [],
   "source": [
    "rockTypes[1]"
   ]
  },
  {
   "cell_type": "code",
   "execution_count": null,
   "metadata": {},
   "outputs": [],
   "source": [
    "print(6)\n",
    "print(\"Hello World\")"
   ]
  },
  {
   "cell_type": "code",
   "execution_count": null,
   "metadata": {},
   "outputs": [],
   "source": [
    "numRocks = 15\n",
    "print(numRocks)"
   ]
  },
  {
   "cell_type": "code",
   "execution_count": null,
   "metadata": {},
   "outputs": [],
   "source": [
    "numBasalt = 4\n",
    "print(\"The number of Basalt rocks found:\", numBasalt)"
   ]
  },
  {
   "cell_type": "code",
   "execution_count": null,
   "metadata": {},
   "outputs": [],
   "source": [
    "date = \"February 26\"\n",
    "numRocks = 15\n",
    "print(\"On\", date, \"number of rocks found:\", numRocks)"
   ]
  },
  {
   "cell_type": "markdown",
   "metadata": {},
   "source": [
    "### Code Control Statements in Python\n",
    "Learn more advanced topics of Python using interactive Notebooks.\n",
    "\n",
    "Learning objectives\n",
    "In this module, you'll learn:\n",
    "\n",
    "- How to write and when to use conditionals\n",
    "- How to write and when to use while and for loops\n",
    "- How to make your own functions\n",
    "- How to call your own functions\n",
    "- How to use parameters and global variables"
   ]
  },
  {
   "cell_type": "markdown",
   "metadata": {},
   "source": [
    "In the real world, we'll sometimes only perform an action if a certain condition is met. This is the idea behind conditionals in coding. For example, we may want to launch a rocket only if the temperature is above 32 degrees fahrenheit.\n",
    "\n",
    "Let's start by learning about the different conditions we can check to help us decide whether to perform an action or not.\n",
    "\n",
    "## Conditions\n",
    "\n",
    "Conditions are things that need to be met before we change tasks. We can find out if a condition is met by comparing two values. To do this, we use something called logical operators. Logical operators return either `True`, if the statement is true, or `False`, if the statement is false. Remember: `True` and `False` values are called booleans.\n",
    "\n",
    "For example, if our condition is to check whether the temperature is above freezing (to see if a rocket launch would be delayed), our condition would be `temperature > 32`. This would give us `True` if the temperature is above freezing and `False` if the temperature is at or below freezing.\n",
    "\n",
    "Here are some common logical operators:\n",
    "\n",
    "- Equals: `x == y`\n",
    "- Not Equals: `x != y`\n",
    "- Less than: `x < y`\n",
    "- Less than or equal to: `x <= y`\n",
    "- Greater than: `x > y`\n",
    "- Greater than or equal: `x >= y`\n",
    "\n",
    "Try to play around with some logical operators in Jupyter Notebooks. Notice how the single equal sign and double equal signs have different meanings. The single equal sign assigns a value to a variable, while the double equal sign compares values. This difference is a common gotcha that a beginner programmer can face. \n",
    "\n",
    "Predict what will print in the following code cell, and then run the cell to make sure you've understood this concept. "
   ]
  },
  {
   "cell_type": "code",
   "execution_count": null,
   "metadata": {},
   "outputs": [],
   "source": [
    "temp = 50\n",
    "print(temp >= 32)\n",
    "print(temp < 32)\n",
    "print(temp == 32)"
   ]
  },
  {
   "cell_type": "markdown",
   "metadata": {},
   "source": [
    "You can also use these operators on other variable types. Run this code cell to compare strings."
   ]
  },
  {
   "cell_type": "code",
   "execution_count": null,
   "metadata": {},
   "outputs": [],
   "source": [
    "rock = \"basalt\"\n",
    "print(\"highland\" == rock)\n",
    "print(\"basalt\" == rock)"
   ]
  },
  {
   "cell_type": "markdown",
   "metadata": {},
   "source": [
    "For reasons that are beyond the scope of this module, sometimes when comparing variables, you must use commands like in. This just checks whether a word is inside the variable."
   ]
  },
  {
   "cell_type": "code",
   "execution_count": null,
   "metadata": {},
   "outputs": [],
   "source": [
    "rock = \"basaltrock\"\n",
    "print(\"highland\" in rock)\n",
    "print(\"basalt\" in rock)"
   ]
  },
  {
   "cell_type": "markdown",
   "metadata": {},
   "source": [
    "Now that we know how to write the conditions to determine whether we want an action to execute, we can begin to specify what action we want to occur."
   ]
  },
  {
   "cell_type": "markdown",
   "metadata": {},
   "source": [
    "We use conditional statements to tell the computer what to do if some condition is or isn't met: do this; if not, do something else.\n",
    "\n",
    "## If statement\n",
    "\n",
    "The most basic conditional statement is the `if` statement. The `if` statement checks whether a condition is true or not true. If the condition is true, the `if` statement runs the code that's defined inside the statement. If the condition is not true, any code that's defined inside the `if` statement is skipped.\n",
    "\n",
    "Some real world examples are:\n",
    "\n",
    "- If the temperature is above freezing, the rocket will launch.\n",
    "- If oxygen levels drop, grab a space suit and oxygen tank.\n",
    "\n",
    "In Python, the format for an `if` statement is:\n",
    "\n",
    "```python\n",
    "if(conditionToTestIsTrue):\n",
    "    doSomething\n",
    "```\n",
    "\n",
    "It's necessary to include the colon `:` at the end of the `if` statement, and also to indent each line of code that's defined inside the `if` statement. The indented lines of code will run when the `if` condition evaluates to `True`.\n",
    "\n",
    "The following example shows how to use an `if` statement in Python. We use the `if` statement to test whether the count of basalt rocks is 0. If the count is 0, both `print()` statements run and display their output. If the count of rocks is not 0, the first `print()` statement is skipped, and only the second `print()` statement runs."
   ]
  },
  {
   "cell_type": "code",
   "execution_count": null,
   "metadata": {},
   "outputs": [],
   "source": [
    "basalt = 0\n",
    "if(basalt == 0):\n",
    "    print(\"We have found no basalt rocks.\")\n",
    "print(\"Done checking basalt rocks.\")"
   ]
  },
  {
   "cell_type": "code",
   "execution_count": null,
   "metadata": {},
   "outputs": [],
   "source": [
    "basalt = 1\n",
    "if(basalt == 0):\n",
    "    print(\"We have found no basalt rocks.\")\n",
    "print(\"Done checking basalt rocks.\")"
   ]
  },
  {
   "cell_type": "markdown",
   "metadata": {},
   "source": [
    "Notice how the first code cell above printed \"We have found no basalt rocks.\" and \"Done checking basalt rocks.\" This occured because we assigned 0 to the varaible `basalt` and then the `if` statement compared the value of the variable `basalt` to 0, resulting in a true statement. Since the `if` statement is true, we run the code inside the `if` statement (printing the first sentence), then the code exits the `if` statement and prints the second sentence.\n",
    "\n",
    "The second code cell above prints \"Done checking basalt rocks.\" This occurred because we assigned 1 to the varaible `basalt` and are still comparing the value of the variable basalt to 0, resulting in a false statement. Since the `if` statement is false, we don't run the code inside the `if` statment, and move to the code that is after the `if` statement, which only prints the second sentence.\n",
    "\n",
    "## Else statement\n",
    "\n",
    "The `else` statement extends the `if` conditional statement and lets coders have more control over what happens depending on the condition result. An `else` statement must be written after an `if` statement. The program always executes the code that's defined inside the `else` statement when the condition in the `if` statement isn't met.\n",
    "\n",
    "Here's an example:"
   ]
  },
  {
   "cell_type": "code",
   "execution_count": null,
   "metadata": {},
   "outputs": [],
   "source": [
    "basalt = 0\n",
    "if(basalt == 0):\n",
    "    print(\"We have found no basalt rocks.\")\n",
    "else:\n",
    "    print(\"We found some basalt rocks!\")\n",
    "print(\"Done checking basalt rocks.\")"
   ]
  },
  {
   "cell_type": "code",
   "execution_count": null,
   "metadata": {},
   "outputs": [],
   "source": [
    "basalt = 5\n",
    "if(basalt == 0):\n",
    "    print(\"We have found no basalt rocks.\")\n",
    "else:\n",
    "    print(\"We found some basalt rocks!\")\n",
    "print(\"Done checking basalt rocks.\")"
   ]
  },
  {
   "cell_type": "markdown",
   "metadata": {},
   "source": [
    "Notice in the above two code cell examples, they're similar to the first two code cells in this notebook. But this time, if the statement is false, the code enters the `else` statement and prints that sentence. So each code cell above will print two sentences, depending on if there were no basalt rocks or at least 1 basalt rock.\n",
    "\n",
    "## Else-if statement\n",
    "\n",
    "Python also supports `else-if` (elif) checks, for further control on actions based on data. The `elif` statement is written after an `if` statement and before an `else` statement. You can have as many `elif` statements as you want between the initial `if` statement and the final `else` statement.\n",
    "\n",
    "The `elif` statement is just another `if` statement. When the conditions in the initial `if` statement aren't met, the program checks whether the conditions in the next `elif` statement are met. When the conditions for the `elif` statement are met, the code that's defined inside the `elif` statement is run. Any code that's defined in a subsequent `elif` or `else` statement is skipped.\n",
    "\n",
    "Here's an example of how an `elif` statement is used. Predict what will happen and then run the code cell to make sure you've understood it:"
   ]
  },
  {
   "cell_type": "code",
   "execution_count": null,
   "metadata": {},
   "outputs": [],
   "source": [
    "basalt = 5\n",
    "if(basalt == 0):\n",
    "    print(\"We found no basalt rocks.\")\n",
    "elif(basalt == 1):\n",
    "    print(\"We found exactly 1 basalt rock.\")\n",
    "else:\n",
    "    print(\"We found more than 1 basalt rock!\")\n",
    "print(\"Done checking basalt rocks.\")"
   ]
  },
  {
   "cell_type": "markdown",
   "metadata": {},
   "source": [
    "Notice that this is very similar to the previous examples in this notebook. The difference is we do a second check to see if we have found exactly 1 basalt rock. \n",
    "\n",
    "Try changing `basalt = 1` to other values; for example, `basalt = 0` or `basalt = 5`."
   ]
  },
  {
   "cell_type": "markdown",
   "metadata": {},
   "source": [
    "Iterations, in programming, let coders repeat a set of instructions until a condition is met. Think about this as being stuck in a loop that will continue until something tells you to break out.\n",
    "\n",
    "## While loop\n",
    "\n",
    "The `while` loop is one of two iteration types you'll learn about. In this loop, you must specify a condition first and then include the code that you want the loop to iterate over. The loop first checks if the condition is `True` and if it is, then it looks at the code inside the loop. When the condition becomes `False`, the code in the loop is skipped over and the program continues executing the rest of your code.\n",
    "\n",
    "If the condition in the loop is `False` to begin with, the code within the loop never executes. During a single loop, the program then goes through the loop and runs the code. Once the code is finished, it looks back at the condition to see if it is still `True`. It's necessary to change the variables in your loop to eventually have a condition that is `False`, or else an infinite loop will occur.\n",
    "\n",
    "As shown in the code below, to write a `while` loop, you must first type \"while\" and then the condition you'll check before every loop. End the line with a colon and be sure to indent the next line, which will be the actual loop. The code below prints out a countdown for a rocket. As you can see, the countdown variable in the condition section decreases in every loop until it reaches -1, at which point the condition is `False` and the loop ends.\n",
    "\n",
    "Predict what will happen when you run this code, then click the run button to verify you've understood."
   ]
  },
  {
   "cell_type": "code",
   "execution_count": null,
   "metadata": {},
   "outputs": [],
   "source": [
    "countdown = 5\n",
    "\n",
    "while countdown >= 0:\n",
    "    print(countdown)\n",
    "    countdown = countdown - 1\n",
    "print(\"Lift off!\")"
   ]
  },
  {
   "cell_type": "code",
   "execution_count": null,
   "metadata": {},
   "outputs": [],
   "source": [
    "# Trying to find life outside our planet\n",
    "timer = 10\n",
    "while timer > 0:\n",
    "    print(\"Hello, I am from Earth.\")"
   ]
  },
  {
   "cell_type": "code",
   "execution_count": null,
   "metadata": {},
   "outputs": [],
   "source": [
    "planets = \"Mars\", \"Saturn\", \"Jupiter\"\n",
    "\n",
    "for planet in planets:\n",
    "    print(planet)"
   ]
  },
  {
   "cell_type": "markdown",
   "metadata": {},
   "source": [
    "We can use functions to make our code easier to read and easier to reuse. For example, if you wrote code to count the number of basalt rocks, it would probably be almost identical to the code needed to count highland rocks. Instead of making an `if` statement to check the type of every single space rock, we can write a function for the space rocks and it can run the same code to check which type of rock it is each time.\n",
    "\n",
    "`Print()` is an example of a function where the code that displays output to the screen is the same, and the only difference is what you want to display. In this unit, you'll learn how to write your own function.\n",
    "\n",
    "To create a function in Python, we must first tell Python that it is a function. We use the word \"def\" to define a function (tell Python that the following code is a function). You must then include a name for your function, parenthesis, and a colon.\n",
    "\n",
    "Finally, at the end of your function, you must include the \"return\" key word. This tells Python the function is done and to return to the point where you called the function. Notice that all code within the function, including the `return` statement, should be indented.\n",
    "\n",
    "```python\n",
    "def NameOfFunction():\n",
    "\n",
    "  return\n",
    "```\n",
    "\n",
    "Now let's play around with an example of making our own functions.\n",
    "\n",
    "Run this code cell to see how functions work:"
   ]
  },
  {
   "cell_type": "code",
   "execution_count": null,
   "metadata": {},
   "outputs": [],
   "source": [
    "def OutputRocketText():\n",
    "    print(5)\n",
    "    print(4)\n",
    "    print(3)\n",
    "    print(2)\n",
    "    print(1)\n",
    "    print(\"Rocket will be launchinng soon!\")\n",
    "\n",
    "    return\n",
    "\n",
    "OutputRocketText()"
   ]
  },
  {
   "cell_type": "markdown",
   "metadata": {},
   "source": [
    "As you can see in the code, we start by defining a function that prints the countdown and rocket launch announcement. Then we add code that calls the function. If we had multiple rocket launches, we could just call the `OutputRocketText` function instead of typing out the whole print line. This would make our code much cleaner and less redundant."
   ]
  },
  {
   "cell_type": "markdown",
   "metadata": {},
   "source": [
    "In many applications of Python, you'll need to use data from an external source, such as:\n",
    "\n",
    "- An Excel file with data tracking the various parts of a rocket\n",
    "- A text file to read the rocks that a moon rover sees\n",
    "\n",
    "In this unit, we'll learn how to read and write data from a text file using built-in Python functions.\n",
    "\n",
    "## Setting up data\n",
    "\n",
    "The first step is to create the file we want to read. You could also use an existing file; just place it in the same folder as the notebook you're running.\n",
    "\n",
    "We'll first create the variable `strPath` to hold the filename \"text.txt\"."
   ]
  },
  {
   "cell_type": "code",
   "execution_count": 2,
   "metadata": {},
   "outputs": [],
   "source": [
    "strPath = \"text.txt\""
   ]
  },
  {
   "cell_type": "markdown",
   "metadata": {},
   "source": [
    "Next, we'll use the `open()` function to create the file in Python. We'll make a new variable named `fileObject` to hold the data. The file will be created in the local folder, which is most often the same folder as the notebook.\n",
    "\n",
    "Notice that the second parameter is a string with the value \"w\". This indicates to _create_ or _overwrite_ any existing file. You can also pass \"a\" to append to a file, or omit the parameter to only allow read operations."
   ]
  },
  {
   "cell_type": "code",
   "execution_count": 3,
   "metadata": {},
   "outputs": [],
   "source": [
    "fileObject = open(strPath, \"w\")"
   ]
  },
  {
   "cell_type": "markdown",
   "metadata": {},
   "source": [
    "Next, let's use the `write()` function to write some text to the file. We want multiple lines, so we'll add a \"\\n\" character to the end of each string."
   ]
  },
  {
   "cell_type": "code",
   "execution_count": 4,
   "metadata": {},
   "outputs": [
    {
     "data": {
      "text/plain": [
       "12"
      ]
     },
     "execution_count": 4,
     "metadata": {},
     "output_type": "execute_result"
    }
   ],
   "source": [
    "fileObject.write(\"First astronaut on the moon\\n\")\n",
    "fileObject.write(\"Buzz Aldrin\\n\")"
   ]
  },
  {
   "cell_type": "markdown",
   "metadata": {},
   "source": [
    "Lastly, we need to _close_ the file. This flushes any data that hasn't been written to the file on disk yet."
   ]
  },
  {
   "cell_type": "code",
   "execution_count": 5,
   "metadata": {},
   "outputs": [],
   "source": [
    "fileObject.close()"
   ]
  },
  {
   "cell_type": "markdown",
   "metadata": {},
   "source": [
    "Now, let's do the same basic operations, but _read_ back the contents of the file. We'll use the same filename, but open the file for reading this time."
   ]
  },
  {
   "cell_type": "code",
   "execution_count": 6,
   "metadata": {},
   "outputs": [],
   "source": [
    "fileObject = open(strPath)"
   ]
  },
  {
   "cell_type": "markdown",
   "metadata": {},
   "source": [
    "Finally, we'll have Python read this `fileObject` variable to give us a list of strings that we can explore with Python functions by using the `readlines()` function. The `readlines()` function takes each line of the text file and makes it an entry in a list. We'll store this list in another variable so we can print it out later. It's also good practice to close the `fileObject` when you're done with it. Remember, we do this by calling `close()`."
   ]
  },
  {
   "cell_type": "code",
   "execution_count": 7,
   "metadata": {},
   "outputs": [],
   "source": [
    "textList = fileObject.readlines()\n",
    "fileObject.close()"
   ]
  },
  {
   "cell_type": "code",
   "execution_count": null,
   "metadata": {},
   "outputs": [],
   "source": [
    "for line in textList:\n",
    "    print(line)"
   ]
  },
  {
   "cell_type": "markdown",
   "metadata": {},
   "source": [
    "The example above teaches us how to read the full data into Python. We can also read a text file and only go through certain parts of. This is called \"parsing\" in programming. To parse through the text we just imported, let's go line by line and print every line out. Since every line is an element in our list, we can get the first line by looking at the first element in the list."
   ]
  },
  {
   "cell_type": "code",
   "execution_count": null,
   "metadata": {},
   "outputs": [],
   "source": [
    "firstLine = textList[0]\n",
    "print(firstLine)"
   ]
  },
  {
   "cell_type": "code",
   "execution_count": null,
   "metadata": {},
   "outputs": [],
   "source": [
    "print(textList[0])"
   ]
  },
  {
   "cell_type": "markdown",
   "metadata": {},
   "source": [
    "To read the second line from the text file, just get the second item in the list."
   ]
  },
  {
   "cell_type": "code",
   "execution_count": 11,
   "metadata": {},
   "outputs": [
    {
     "name": "stdout",
     "output_type": "stream",
     "text": [
      "Buzz Aldrin\n",
      "\n"
     ]
    }
   ],
   "source": [
    "secondLine = textList[1]\n",
    "print(secondLine)"
   ]
  },
  {
   "cell_type": "code",
   "execution_count": 16,
   "metadata": {},
   "outputs": [
    {
     "name": "stdout",
     "output_type": "stream",
     "text": [
      "Buzz Aldrin\n",
      " First astronaut on the moon\n",
      "\n"
     ]
    }
   ],
   "source": [
    "print(secondLine, firstLine)"
   ]
  },
  {
   "cell_type": "markdown",
   "metadata": {},
   "source": [
    "Another interesting aspect of functions is that variables created inside them exist only inside the function. For example, this code would fail because we create the `rocketNumber` variable inside the function and then try to use it outside the function. Python doesn't know about that variable outside the function so it returns an error.\n",
    "\n",
    "Run this code cell to see the error produced by attempting to use a variable that only exists within the scope of the function:"
   ]
  },
  {
   "cell_type": "code",
   "execution_count": 17,
   "metadata": {},
   "outputs": [
    {
     "name": "stdout",
     "output_type": "stream",
     "text": [
      "Rocket will launch soon!\n"
     ]
    },
    {
     "ename": "NameError",
     "evalue": "name 'rocketNumber' is not defined",
     "output_type": "error",
     "traceback": [
      "\u001b[1;31m---------------------------------------------------------------------------\u001b[0m",
      "\u001b[1;31mNameError\u001b[0m                                 Traceback (most recent call last)",
      "\u001b[1;32mc:\\Users\\LBonneau\\OneDrive - Livtech\\Documents\\GitHub\\OddsAndEnds\\Scripting\\Python\\Artemis.ipynb Cell 66'\u001b[0m in \u001b[0;36m<cell line: 8>\u001b[1;34m()\u001b[0m\n\u001b[0;32m      <a href='vscode-notebook-cell:/c%3A/Users/LBonneau/OneDrive%20-%20Livtech/Documents/GitHub/OddsAndEnds/Scripting/Python/Artemis.ipynb#ch0000064?line=4'>5</a>\u001b[0m     \u001b[39mreturn\u001b[39;00m\n\u001b[0;32m      <a href='vscode-notebook-cell:/c%3A/Users/LBonneau/OneDrive%20-%20Livtech/Documents/GitHub/OddsAndEnds/Scripting/Python/Artemis.ipynb#ch0000064?line=6'>7</a>\u001b[0m OutputRocketText()\n\u001b[1;32m----> <a href='vscode-notebook-cell:/c%3A/Users/LBonneau/OneDrive%20-%20Livtech/Documents/GitHub/OddsAndEnds/Scripting/Python/Artemis.ipynb#ch0000064?line=7'>8</a>\u001b[0m \u001b[39mprint\u001b[39m(rocketNumber)\n",
      "\u001b[1;31mNameError\u001b[0m: name 'rocketNumber' is not defined"
     ]
    }
   ],
   "source": [
    "def OutputRocketText():\n",
    "    rocketNumber = 1\n",
    "    print(\"Rocket will launch soon!\")\n",
    "\n",
    "    return\n",
    "\n",
    "OutputRocketText()\n",
    "print(rocketNumber)"
   ]
  },
  {
   "cell_type": "code",
   "execution_count": 19,
   "metadata": {},
   "outputs": [
    {
     "ename": "UnboundLocalError",
     "evalue": "local variable 'rocketText' referenced before assignment",
     "output_type": "error",
     "traceback": [
      "\u001b[1;31m---------------------------------------------------------------------------\u001b[0m",
      "\u001b[1;31mUnboundLocalError\u001b[0m                         Traceback (most recent call last)",
      "\u001b[1;32mc:\\Users\\LBonneau\\OneDrive - Livtech\\Documents\\GitHub\\OddsAndEnds\\Scripting\\Python\\Artemis.ipynb Cell 67'\u001b[0m in \u001b[0;36m<cell line: 6>\u001b[1;34m()\u001b[0m\n\u001b[0;32m      <a href='vscode-notebook-cell:/c%3A/Users/LBonneau/OneDrive%20-%20Livtech/Documents/GitHub/OddsAndEnds/Scripting/Python/Artemis.ipynb#ch0000066?line=2'>3</a>\u001b[0m     rocketText \u001b[39m=\u001b[39m rocketText \u001b[39m+\u001b[39m \u001b[39m\"\u001b[39m\u001b[39m two days.\u001b[39m\u001b[39m\"\u001b[39m\n\u001b[0;32m      <a href='vscode-notebook-cell:/c%3A/Users/LBonneau/OneDrive%20-%20Livtech/Documents/GitHub/OddsAndEnds/Scripting/Python/Artemis.ipynb#ch0000066?line=3'>4</a>\u001b[0m     \u001b[39mreturn\u001b[39;00m\n\u001b[1;32m----> <a href='vscode-notebook-cell:/c%3A/Users/LBonneau/OneDrive%20-%20Livtech/Documents/GitHub/OddsAndEnds/Scripting/Python/Artemis.ipynb#ch0000066?line=5'>6</a>\u001b[0m OutputRocketText()\n",
      "\u001b[1;32mc:\\Users\\LBonneau\\OneDrive - Livtech\\Documents\\GitHub\\OddsAndEnds\\Scripting\\Python\\Artemis.ipynb Cell 67'\u001b[0m in \u001b[0;36mOutputRocketText\u001b[1;34m()\u001b[0m\n\u001b[0;32m      <a href='vscode-notebook-cell:/c%3A/Users/LBonneau/OneDrive%20-%20Livtech/Documents/GitHub/OddsAndEnds/Scripting/Python/Artemis.ipynb#ch0000066?line=1'>2</a>\u001b[0m \u001b[39mdef\u001b[39;00m \u001b[39mOutputRocketText\u001b[39m():\n\u001b[1;32m----> <a href='vscode-notebook-cell:/c%3A/Users/LBonneau/OneDrive%20-%20Livtech/Documents/GitHub/OddsAndEnds/Scripting/Python/Artemis.ipynb#ch0000066?line=2'>3</a>\u001b[0m     rocketText \u001b[39m=\u001b[39m rocketText \u001b[39m+\u001b[39m \u001b[39m\"\u001b[39m\u001b[39m two days.\u001b[39m\u001b[39m\"\u001b[39m\n\u001b[0;32m      <a href='vscode-notebook-cell:/c%3A/Users/LBonneau/OneDrive%20-%20Livtech/Documents/GitHub/OddsAndEnds/Scripting/Python/Artemis.ipynb#ch0000066?line=3'>4</a>\u001b[0m     \u001b[39mreturn\u001b[39;00m\n",
      "\u001b[1;31mUnboundLocalError\u001b[0m: local variable 'rocketText' referenced before assignment"
     ]
    }
   ],
   "source": [
    "rocketText = \"We will launch in\"\n",
    "def OutputRocketText():\n",
    "    rocketText = rocketText + \" two days.\"\n",
    "    return\n",
    "\n",
    "OutputRocketText()"
   ]
  },
  {
   "cell_type": "markdown",
   "metadata": {},
   "source": [
    "As you can see, this code produces an error as well, because we are trying to modify a variable that was created outside a function.\n",
    "\n",
    "To combat this, we can do one of two things:\n",
    "\n",
    "- Make a variable a global variable\n",
    "- Give a variable to the function, so it knows what the variable is, and then return it\n",
    "\n",
    "The easiest way to change the value of a variable inside a function is to make it a global variable. Everything in the program can modify a global variable, even if it is modified inside a function. To make something a global variable, you must create a variable before you call the function and then include a line in your function that gives the global variable name:"
   ]
  },
  {
   "cell_type": "code",
   "execution_count": 21,
   "metadata": {},
   "outputs": [
    {
     "name": "stdout",
     "output_type": "stream",
     "text": [
      "We will launch in two days.\n"
     ]
    }
   ],
   "source": [
    "rocketText = \"We will launch in\"\n",
    "\n",
    "def OutputRocketText():\n",
    "    global rocketText\n",
    "    rocketText = rocketText + \" two days.\"\n",
    "    return\n",
    "\n",
    "OutputRocketText()\n",
    "print(rocketText)"
   ]
  },
  {
   "cell_type": "markdown",
   "metadata": {},
   "source": [
    "Another way to modify variables inside a function is to use parameters. Parameters give a function knowledge of a variable when you call it. To tell Python you want your functions to have parameters, use the following code.\n",
    "\n",
    "Try running this code cell to see that this works."
   ]
  },
  {
   "cell_type": "code",
   "execution_count": 25,
   "metadata": {},
   "outputs": [
    {
     "name": "stdout",
     "output_type": "stream",
     "text": [
      "We will launch in two days.\n"
     ]
    }
   ],
   "source": [
    "def OutputRocketText(textInput):\n",
    "    textInput = textInput + \" two days.\"\n",
    "    return textInput\n",
    "\n",
    "rocketText = \"We will launch in\"\n",
    "newRocketText = OutputRocketText(rocketText)\n",
    "print(newRocketText)"
   ]
  },
  {
   "cell_type": "markdown",
   "metadata": {},
   "source": [
    "You can then use that variable inside the function, but it'll have a new name, which is the name inside the parentheses. Also, the function only changes this new variable inside the function. To get the value from the function variable back into the code outside the function, you must return it. Do this by adding the variable name after the return keyword."
   ]
  },
  {
   "cell_type": "markdown",
   "metadata": {},
   "source": [
    "# Count the number of Moon rocks by type using Python\n",
    "Use Python to make a simple program to count the number of each type of space rock.\n",
    "\n",
    "### Learning objectives\n",
    "In this module, you'll learn:\n",
    "\n",
    "- How to write variables in the context of a program\n",
    "- How to use prebuilt functions to read data from a text file\n",
    "- How to create a function and call it in the context of a program\n",
    "- How to write conditionals and loops in the context of a program"
   ]
  },
  {
   "cell_type": "markdown",
   "metadata": {},
   "source": [
    "# Introduction\n",
    "You're a geologist working at NASA. You're responsible for analyzing the different types of rocks found by the Artemis Rover and producing a report. The rover will send a text document of the different types of rocks, which you'll need to parse through. Your friend tells you how the Python programming language can make the task much easier than doing it by hand, and more automated.\n",
    "\n",
    "In this module, you'll build a simple notebook with Python to complete the task. Along the way, you'll apply a variety of introductory computer science topics. You'll have the option to use Visual Studio Code with the Python extension or the Python notebook integration right here on Learn. Either way you will run the code and use pre-built functions that will help you complete this exercise.\n",
    "\n",
    "### Learning objectives\n",
    "In the units following, you'll learn many computer science topics and use them to create an end-to-end solution. Along the way, you'll learn:\n",
    "\n",
    "- How to write variables in the context of a program\n",
    "- How to use prebuilt functions to read data from a text file\n",
    "- How to create a function and call it in the context of a program\n",
    "- How to write conditionals and loops in the context of a program"
   ]
  },
  {
   "cell_type": "markdown",
   "metadata": {},
   "source": [
    "To start our program, we'll want to let the user know that the program is beginning, by using the print command to output a string of text.\n",
    "\n",
    "*******\n",
    "If you are completing this module here on Microsoft Learn, you can skip the following steps and skip directly to running the code cell. If you are completing this module on your local computer using Visual Studio Code, then you have a few extra steps you need to do before you get started:\n",
    "\n",
    "1. Create a folder on your computer that you can access easily. Call the folder something like SpaceRockProject.\n",
    "1. Open the file [rocks.txt](https://docs.microsoft.com/learn/modules/count-moon-rocks-python-nasa/resources/rocks.txt) and select **File** > **Save as**  or **Ctrl + S** to save a copy in your folder. This file contains all of the rocks data that we're going to be reading in Python.\n",
    "\n",
    "   ![Screenshot showing how to save the rock text file.](./media/save-rock-file.png)\n",
    "\n",
    "1. Open Visual Studio Code and select **File** > **New File**. Once the blank file is open, select **Ctrl + S** to save it.\n",
    "1. Navigate to the folder you created, name the file something informative such as ArtemisRockClassifier, and change the file type to Jupyter from the drop-down menu.\n",
    "\n",
    "   ![Screenshot showing how to create the final project Jupyter Notebook.](./media/create-final-project.png)\n",
    "\n",
    "Now we have everything created, we can start coding!\n",
    "*******\n",
    "\n",
    "Run the following code cell to let the user know that the program is beginning:"
   ]
  }
 ],
 "metadata": {
  "interpreter": {
   "hash": "b89b5cfaba6639976dc87ff2fec6d58faec662063367e2c229c520fe71072417"
  },
  "kernelspec": {
   "display_name": "Python 3.10.2 64-bit",
   "language": "python",
   "name": "python3"
  },
  "language_info": {
   "codemirror_mode": {
    "name": "ipython",
    "version": 3
   },
   "file_extension": ".py",
   "mimetype": "text/x-python",
   "name": "python",
   "nbconvert_exporter": "python",
   "pygments_lexer": "ipython3",
   "version": "3.10.2"
  },
  "orig_nbformat": 4
 },
 "nbformat": 4,
 "nbformat_minor": 2
}
