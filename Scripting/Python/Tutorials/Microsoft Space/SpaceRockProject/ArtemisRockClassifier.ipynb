{
 "cells": [
  {
   "cell_type": "markdown",
   "metadata": {},
   "source": [
    "# Count the number of Moon rocks by type using Python\n",
    "Use Python to make a simple program to count the number of each type of space rock.\n",
    "\n",
    "### Learning objectives\n",
    "In this module, you'll learn:\n",
    "\n",
    "- How to write variables in the context of a program\n",
    "- How to use prebuilt functions to read data from a text file\n",
    "- How to create a function and call it in the context of a program\n",
    "- How to write conditionals and loops in the context of a program"
   ]
  },
  {
   "cell_type": "markdown",
   "metadata": {},
   "source": [
    "# Introduction\n",
    "You're a geologist working at NASA. You're responsible for analyzing the different types of rocks found by the Artemis Rover and producing a report. The rover will send a text document of the different types of rocks, which you'll need to parse through. Your friend tells you how the Python programming language can make the task much easier than doing it by hand, and more automated.\n",
    "\n",
    "In this module, you'll build a simple notebook with Python to complete the task. Along the way, you'll apply a variety of introductory computer science topics. You'll have the option to use Visual Studio Code with the Python extension or the Python notebook integration right here on Learn. Either way you will run the code and use pre-built functions that will help you complete this exercise.\n",
    "\n",
    "### Learning objectives\n",
    "In the units following, you'll learn many computer science topics and use them to create an end-to-end solution. Along the way, you'll learn:\n",
    "\n",
    "- How to write variables in the context of a program\n",
    "- How to use prebuilt functions to read data from a text file\n",
    "- How to create a function and call it in the context of a program\n",
    "- How to write conditionals and loops in the context of a program"
   ]
  },
  {
   "cell_type": "markdown",
   "metadata": {},
   "source": [
    "To start our program, we'll want to let the user know that the program is beginning, by using the print command to output a string of text.\n",
    "\n",
    "*******\n",
    "If you are completing this module here on Microsoft Learn, you can skip the following steps and skip directly to running the code cell. If you are completing this module on your local computer using Visual Studio Code, then you have a few extra steps you need to do before you get started:\n",
    "\n",
    "1. Create a folder on your computer that you can access easily. Call the folder something like SpaceRockProject.\n",
    "1. Open the file [rocks.txt](https://docs.microsoft.com/learn/modules/count-moon-rocks-python-nasa/resources/rocks.txt) and select **File** > **Save as**  or **Ctrl + S** to save a copy in your folder. This file contains all of the rocks data that we're going to be reading in Python.\n",
    "\n",
    "   ![Screenshot showing how to save the rock text file.](./media/save-rock-file.png)\n",
    "\n",
    "1. Open Visual Studio Code and select **File** > **New File**. Once the blank file is open, select **Ctrl + S** to save it.\n",
    "1. Navigate to the folder you created, name the file something informative such as ArtemisRockClassifier, and change the file type to Jupyter from the drop-down menu.\n",
    "\n",
    "   ![Screenshot showing how to create the final project Jupyter Notebook.](./media/create-final-project.png)\n",
    "\n",
    "Now we have everything created, we can start coding!\n",
    "*******\n",
    "\n",
    "Run the following code cell to let the user know that the program is beginning:"
   ]
  },
  {
   "cell_type": "code",
   "execution_count": 1,
   "metadata": {},
   "outputs": [
    {
     "name": "stdout",
     "output_type": "stream",
     "text": [
      "Artemis Rover Rock Scanner Starting\n"
     ]
    }
   ],
   "source": [
    "print(\"Artemis Rover Rock Scanner Starting\")"
   ]
  },
  {
   "cell_type": "markdown",
   "metadata": {},
   "source": [
    "Next, we want to create some variables to represent the count of the different types of rocks that Artemis found on the Moon. The specific rocks that we're looking for are\n",
    "\n",
    "- Basalt: The Mare Rock\n",
    "- Breccia: Shocked Rock\n",
    "- Highland Rock: Anorthosite\n",
    "- Regolith Soil/Surface Layer\n",
    "\n",
    "These types are the four main types of rocks found on the Moon.\n",
    "\n",
    "Let's make some variables with names of \"basalt\", \"breccia\", \"highland\", and \"regolith\". We can also set these variables to 0 since we've not yet counted any rocks. Finally, make a list called `rockList` that will store the names of every rock the rover found. We can make the list empty, setting it equal to brackets with nothing inside them."
   ]
  },
  {
   "cell_type": "code",
   "execution_count": 2,
   "metadata": {},
   "outputs": [],
   "source": [
    "basalt = 0\n",
    "breccia = 0\n",
    "highland = 0\n",
    "regolith = 0\n",
    "rockList = []"
   ]
  },
  {
   "cell_type": "markdown",
   "metadata": {},
   "source": [
    "Let's create a sample file we can use over the course of this module. This will contain a list of rocks.\n",
    "\n",
    "Run this code cell to:\n",
    "\n",
    "1. Specify the text file we'll write to\n",
    "1. Open the file\n",
    "1. Write text to the file\n",
    "1. Close the file"
   ]
  },
  {
   "cell_type": "code",
   "execution_count": 3,
   "metadata": {},
   "outputs": [],
   "source": [
    "strPath = \"rocks.txt\"\n",
    "fileObject = open(strPath, \"w\")\n",
    "fileObject.writelines([\"Reading Rocks\\n\",\"basalt\\n\",\"breccia\\n\",\"highland\\n\",\"regolith\\n\",\"highland\\n\",\"breccia\\n\",\"highland\\n\",\"regolith\\n\",\"regolith\\n\",\"basalt\\n\",\"highland\\n\",\"basalt\\n\",\"breccia\\n\",\"breccia\\n\",\"regolith\\n\",\"breccia\\n\",\"highland\\n\",\"highland\\n\",\"breccia\\n\",\"basalt\\n\"])\n",
    "fileObject.close()\n"
   ]
  },
  {
   "cell_type": "markdown",
   "metadata": {},
   "source": [
    "Now that we have some variables made, we can start giving these variables values. We want to count the number of times we see a certain type of rock in the *rocks.txt* file and add that number to the corresponding variable. For example, if there are 12 basalt rocks that Artemis saved to the text file, then we'll want the basalt variable to be set to 12.\n",
    "\n",
    "Let's start by telling the computer to read in the *rocks.txt* file. To do this, run the code below. The `readline` function reads the first line, which is just telling us that we are starting to read the rocks that are written in the file."
   ]
  },
  {
   "cell_type": "code",
   "execution_count": 8,
   "metadata": {},
   "outputs": [
    {
     "name": "stdout",
     "output_type": "stream",
     "text": [
      "Reading Rocks\n",
      "\n"
     ]
    }
   ],
   "source": [
    "strPath = \"rocks.txt\"\n",
    "fileObject = open(strPath)\n",
    "line = fileObject.readline()\n",
    "print(line)"
   ]
  },
  {
   "cell_type": "markdown",
   "metadata": {},
   "source": [
    "Now, we can call the readlines() function to put all of the lines into our `rockList` variable. We'll also print all of the rocks that are in the `rockList` and close the `fileObject`."
   ]
  },
  {
   "cell_type": "code",
   "execution_count": null,
   "metadata": {},
   "outputs": [],
   "source": [
    "rockList = fileObject.readlines()\n",
    "\n",
    "for rock in rockList:\n",
    "    print(rock)\n",
    "\n",
    "fileObject.close()"
   ]
  },
  {
   "cell_type": "markdown",
   "metadata": {},
   "source": [
    "Although we're only printing out each rock that we see in a file at this stage, this exercise sets us up perfectly to call a function. This function looks at each rock and adds to the corresponding variable if it sees a rock of the correct type."
   ]
  },
  {
   "cell_type": "markdown",
   "metadata": {},
   "source": [
    "Let's start by making sure we have the code from the previous units loaded in our notebooks. Either confirm that you have the following code in your notebook in Visual Studio Code, or run this code cell to make sure that we've brought this code over to this notebook."
   ]
  },
  {
   "cell_type": "code",
   "execution_count": null,
   "metadata": {},
   "outputs": [],
   "source": [
    "print(\"Artemis Rover Rock Scanner Starting\")\n",
    "\n",
    "basalt = 0\n",
    "breccia = 0\n",
    "highland = 0\n",
    "regolith = 0\n",
    "rockList = []\n",
    "\n",
    "strPath = \"rocks.txt\"\n",
    "fileObject = open(strPath)\n",
    "line = fileObject.readline()\n",
    "print(line)\n",
    "\n",
    "rockList = fileObject.readlines()\n",
    "\n",
    "for rock in rockList:\n",
    "    print(rock)\n",
    "\n",
    "fileObject.close()"
   ]
  },
  {
   "cell_type": "markdown",
   "metadata": {},
   "source": [
    "The next step in our application is to add a function that looks at a line of text, tells us which type of rock it is, and increments the corresponding variable. To start, run this code cell:"
   ]
  },
  {
   "cell_type": "code",
   "execution_count": null,
   "metadata": {},
   "outputs": [],
   "source": [
    "def countMoonRocks(rockToID):\n",
    "    global basalt\n",
    "    global breccia\n",
    "    global highland\n",
    "    global regolith\n",
    "\n",
    "    rockToID = rockToID.lower()\n",
    "\n",
    "    if(\"basalt\" in rockToID):\n",
    "        print(\"Found a basalt\\n\")\n",
    "        basalt += 1\n",
    "\n",
    "    #TODO Add else if statements for breccia, highland and regolith\n",
    "\n",
    "    return"
   ]
  },
  {
   "cell_type": "markdown",
   "metadata": {},
   "source": [
    "As you recall, these lines create a function with a parameter of the string variable `rockToID` and returns nothing. We'll be calling the function and passing in one of four rock names: Basalt, Breccia, Highland, or Regolith. We'll need to make each rock type a global variable to ensure that the variables remember how many rocks they've counted. To increment the correct variable based on the types of rocks that Artemis found, we'll use `if` statements.\n",
    "\n",
    "The code above checks if the string we've passed through to the function contains the text \"basalt\". If it does, we'll go into the `if` statement and print out that we've found a Basalt rock and then increment the variable for Basalt by one.\n",
    "\n",
    "> [!NOTE]\n",
    "> If the line of text had \"basalt\" in it, with other text, it would still be counted. For example, \"No basalt here\" would be counted as one for Basalt. This shouldn't be a problem in this case because we know where the data is coming from and what it looks like.\n",
    "\n",
    "Before jumping into the solution code, try to add the `else if` statements to practice your new skills of conditional statements. Then, compare to the solution code here:"
   ]
  },
  {
   "cell_type": "code",
   "execution_count": 22,
   "metadata": {},
   "outputs": [],
   "source": [
    "def countMoonRocks(rockToID):\n",
    "    global basalt\n",
    "    global breccia\n",
    "    global highland\n",
    "    global regolith\n",
    "\n",
    "    rockToID = rockToID.lower()\n",
    "\n",
    "    if(\"basalt\" in rockToID):\n",
    "        print(\"Found a basalt\\n\")\n",
    "        basalt += 1\n",
    "    elif(\"breccia\" in rockToID):\n",
    "        print(\"Found a breccia\\n\")\n",
    "        breccia += 1\n",
    "    elif(\"highland\" in rockToID):\n",
    "        print(\"Found a highland\\n\")\n",
    "        highland += 1\n",
    "    elif(\"regolith\" in rockToID):\n",
    "        print(\"Found a regolith\\n\")\n",
    "        regolith += 1\n",
    "\n",
    "    return"
   ]
  },
  {
   "cell_type": "markdown",
   "metadata": {},
   "source": [
    "Let's start by making sure we have the code from the previous units loaded in our notebook. Either confirm that you have the following code in your notebook in Visual Studio Code, or run this code cell to make sure that we've brought this code over to this notebook."
   ]
  },
  {
   "cell_type": "code",
   "execution_count": null,
   "metadata": {},
   "outputs": [],
   "source": [
    "print(\"Artemis Rover Rock Scanner Starting\")\n",
    "\n",
    "basalt = 0\n",
    "breccia = 0\n",
    "highland = 0\n",
    "regolith = 0\n",
    "rockList = []\n",
    "\n",
    "strPath = \"rocks.txt\"\n",
    "fileObject = open(strPath)\n",
    "line = fileObject.readline()\n",
    "print(line)\n",
    "\n",
    "rockList = fileObject.readlines()\n",
    "\n",
    "for rock in rockList:\n",
    "    print(rock)\n",
    "\n",
    "fileObject.close()\n",
    "\n",
    "def countMoonRocks(rockToID):\n",
    "    global basalt\n",
    "    global breccia\n",
    "    global highland\n",
    "    global regolith\n",
    "\n",
    "    rockToID = rockToID.lower()\n",
    "\n",
    "    if(\"basalt\" in rockToID):\n",
    "        print(\"Found a basalt\\n\")\n",
    "        basalt += 1\n",
    "    elif(\"breccia\" in rockToID):\n",
    "        print(\"Found a breccia\\n\")\n",
    "        breccia += 1\n",
    "    elif(\"highland\" in rockToID):\n",
    "        print(\"Found a highland\\n\")\n",
    "        highland += 1\n",
    "    elif(\"regolith\" in rockToID):\n",
    "        print(\"Found a regolith\\n\")\n",
    "        regolith += 1\n",
    "\n",
    "    return"
   ]
  },
  {
   "cell_type": "markdown",
   "metadata": {},
   "source": [
    "Now that the function is made, we'll need to include a call to it so it'll be used. We'll create a `for` loop to go through every value in our rock list and call the function with each rock."
   ]
  },
  {
   "cell_type": "code",
   "execution_count": null,
   "metadata": {},
   "outputs": [],
   "source": [
    "for rock in rockList:\n",
    "    countMoonRocks(rock)"
   ]
  },
  {
   "cell_type": "markdown",
   "metadata": {},
   "source": [
    "This code calls the function that we've created for each line of text (each rock) that was reported by the rover. The function adds to the count for the corresponding type of rock and stores this number in the respective variable.\n",
    "\n",
    "Now that we have all of the rock counts in their variables, we can use some additional code to write summaries about them."
   ]
  }
 ],
 "metadata": {
  "interpreter": {
   "hash": "b89b5cfaba6639976dc87ff2fec6d58faec662063367e2c229c520fe71072417"
  },
  "kernelspec": {
   "display_name": "Python 3.10.2 64-bit",
   "language": "python",
   "name": "python3"
  },
  "language_info": {
   "codemirror_mode": {
    "name": "ipython",
    "version": 3
   },
   "file_extension": ".py",
   "mimetype": "text/x-python",
   "name": "python",
   "nbconvert_exporter": "python",
   "pygments_lexer": "ipython3",
   "version": "3.10.2"
  },
  "orig_nbformat": 4
 },
 "nbformat": 4,
 "nbformat_minor": 2
}
