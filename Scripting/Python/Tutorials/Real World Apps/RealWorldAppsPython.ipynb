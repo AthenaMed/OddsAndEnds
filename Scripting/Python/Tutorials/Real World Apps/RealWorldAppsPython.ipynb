{
 "cells": [
  {
   "cell_type": "markdown",
   "metadata": {},
   "source": [
    "# What is Python?"
   ]
  },
  {
   "cell_type": "markdown",
   "metadata": {},
   "source": [
    "Python is one of the most popular programming languages in the world. Created in the early 1990s, it enjoys a wide range of uses from automating repetitive tasks and writing web apps to building machine learning models and implementing neural networks. Researchers, mathematicians, and data scientists in particular like Python because of its rich and easy-to-understand syntax and the wide range of open-source packages available. Packages are commonly used, shared code libraries that are freely available for anyone to use.\n",
    "\n",
    "Python has a simple, easy to learn syntax, which emphasizes readability. Applications written in Python can run on almost any computer, including those running Windows, macOS, and popular distributions of Linux. Furthermore, the ecosystem contains a rich set of development tools for writing, debugging, and publishing Python applications.\n",
    "\n",
    "Finally, Python is supported by an active user community that is eager to help new programmers learn the Pythonic way where you don't just get the syntax right, but use the language the way it was intended."
   ]
  },
  {
   "cell_type": "markdown",
   "metadata": {},
   "source": [
    "# Running Python code"
   ]
  },
  {
   "cell_type": "markdown",
   "metadata": {},
   "source": [
    "Python is an _interpreted language, which reduces the edit-test-debug cycle because there's no compilation step required. In order to run Python apps, you need a runtime environment/interpreter to execute the code.\n",
    "\n",
    "Most of the runtime environments support two ways to execute Python code:\n",
    "\n",
    "- Interactive mode: in this mode, each command you type is interpreted and executed immediately and you see the results each time you press ENTER. The interactive mode is the default mode if you don't pass a filename to the interpreter.\n",
    "- Script mode: in script mode, you put a set of Python statements into a text file with a .py extension. You then run the python interpreter and point it at the file. The program is executed line-by-line and the output is displayed. There is no compilation step as shown in the following diagram."
   ]
  },
  {
   "cell_type": "markdown",
   "metadata": {},
   "source": [
    "![2 Steps of Python](2-python-steps.png)"
   ]
  },
  {
   "cell_type": "markdown",
   "metadata": {},
   "source": [
    "### Note\n",
    "\n",
    "Most Python implementations do a partial compile of scripts, turning the source code into byte code which can be run on any supported platform. This partial compile is done to improve performance for subsequent runs of the script and happens automatically. You can also generate a \"compiled\" version of the script and distribute an app without providing the full source code."
   ]
  },
  {
   "cell_type": "markdown",
   "metadata": {},
   "source": [
    "# Python implementations\n",
    "Python is licensed under the OSI open-source license and there are several implementations available depending on your needs. Here are a few of the options available:\n",
    "\n",
    "- CPython, the reference implementation. The most popular is the reference implementation (CPython), available from the Python website. CPython is commonly used for web development, application development and scripting. There are install packages for Windows and macOS. Linux users can install Python using built-in package managers such as apt, yum, and Zypper. There is also an online playground where you can try Python statements right on the website. Finally, the complete source code is available allowing you to build your own version of the interpreter.\n",
    "\n",
    "- Anaconda, is a specialized Python distribution tailored for scientific programming tasks such as data science and machine learning. Check out more details on Anaconda here.\n",
    "\n",
    "- Iron Python, is an open-source implementation of Python built on the .NET runtime. Learn more about IronPython\n",
    "\n",
    "- Jupyter Notebook, is a web-based interactive programming environment that supports various programming languages including Python. Jupyter notebooks are widely used in research and academia for mathematical modeling, machine learning, statistical analysis, and for teaching and learning how to code. Install Jupyter notebooks.\n",
    "\n",
    "You'll use the Azure Cloud Shell to develop with Python in this module, but the summary has links to download and install Python on your local computer once you have completed this module."
   ]
  },
  {
   "cell_type": "markdown",
   "metadata": {},
   "source": [
    "## Use the REPL\n",
    "Sometimes you want to try a piece of a code out, without having to go through creating a file for it first. For those occasions, it's a good idea to use a built-in program called a REPL that lets you type shorter statements and have those statements evaluated."
   ]
  },
  {
   "cell_type": "markdown",
   "metadata": {},
   "source": [
    "## The Python REPL\n",
    "Python supports an interactive console experience, which allows you to type in commands and see the results immediately. This experience is sometimes referred to as a \"Read-Eval-Print-Loop\" or REPL.\n",
    "\n",
    "To use the REPL, you type python in your console. What you are phased with is a prompt looking like similar to the below output, it waits for you to input commands:"
   ]
  },
  {
   "cell_type": "markdown",
   "metadata": {},
   "source": [
    "Python 3.9.5 (default, May 27 2021, 19:45:35)\n",
    "[GCC 9.3.0] on linux\n",
    "Type \"help\", \"copyright\", \"credits\" or \"license\" for more information.\n",
    "\">>>\""
   ]
  },
  {
   "cell_type": "markdown",
   "metadata": {},
   "source": [
    "## What can it do\n",
    "With the REPL you can do most things you would be able to do in a code file like for example:\n",
    "\n",
    "- Run and evaluate statements. You can have the REPL evaluate a statement like so:"
   ]
  },
  {
   "cell_type": "code",
   "execution_count": null,
   "metadata": {},
   "outputs": [],
   "source": [
    ">>> 1+1\n",
    "2\n",
    ">>>"
   ]
  },
  {
   "cell_type": "markdown",
   "metadata": {},
   "source": [
    "- Declare variables and functions. Another thing you can do is to create variables and functions and REPL will remember that they exist, should you try to use them later:"
   ]
  },
  {
   "cell_type": "code",
   "execution_count": null,
   "metadata": {},
   "outputs": [],
   "source": [
    ">>> PI = 3.14\n",
    ">>> PI\n",
    "3.14"
   ]
  },
  {
   "cell_type": "markdown",
   "metadata": {},
   "source": [
    "- Use the built-in help. Getting help on a topic can be useful as you don't have to leave the editor of your choice, to browsing on the Web, but you can continue to author code."
   ]
  },
  {
   "cell_type": "markdown",
   "metadata": {},
   "source": [
    "## Using help\n",
    "The REPL has a built-in help function you can use to look up keywords and functions. The generalized syntax for this function is:"
   ]
  },
  {
   "cell_type": "code",
   "execution_count": null,
   "metadata": {},
   "outputs": [],
   "source": [
    "help([object])"
   ]
  },
  {
   "cell_type": "markdown",
   "metadata": {},
   "source": [
    "Where [object] is a specific function or keyword you want help on."
   ]
  },
  {
   "cell_type": "markdown",
   "metadata": {},
   "source": [
    "## Interactive help console\n",
    "If you don't pass an argument to the help function, an interactive help facility is started.\n",
    "\n",
    "You enter the interactive help console by typing help(). This command will list some basic instructions on how to use the help system.\n",
    "\n",
    "From here, you can just type in the element you're interested in. By, for example, typing string it will display information about the topic string, which looks something like the below:"
   ]
  },
  {
   "cell_type": "code",
   "execution_count": null,
   "metadata": {},
   "outputs": [],
   "source": [
    "Help on module string:\n",
    "\n",
    "NAME\n",
    "    string - A collection of string constants.\n",
    "\n",
    "MODULE REFERENCE\n",
    "    https://docs.python.org/3.5/library/string.html\n",
    "\n",
    "    The following documentation is automatically generated from the Python\n",
    "    source files.  It may be incomplete, incorrect or include features that\n",
    "    are considered implementation detail and may vary between Python\n",
    "    implementations.  When in doubt, consult the module reference at the\n",
    "    location listed above."
   ]
  },
  {
   "cell_type": "markdown",
   "metadata": {},
   "source": [
    "When there is more than one page of output, you can press Enter to display line-by-line, or Space to go page-by-page.\n",
    "At the end of the help screen, you can type q to exit the page. You will be returned to the back of the interactive help prompt."
   ]
  },
  {
   "cell_type": "markdown",
   "metadata": {},
   "source": [
    "# Variables and basic data types in Python\n",
    "Variables are one of the fundamental building blocks of programs written in Python. Variables hold data in memory. They have names, and they can be referenced by name. Variables also have *types*, which specify what type of data they can store, such as string and integer, and they can be used in expressions that use operators such as `+` and `-` to manipulate their values."
   ]
  },
  {
   "cell_type": "markdown",
   "metadata": {},
   "source": [
    "## Variables\n",
    "In Python, a variable is declared and assigned a value using the assignment operator `=`. The variable being assigned to, is on the left-hand side of the operator, and the value being assigned, which can be an expression such as `2 + 2` and can even include other variables, is on the right-hand side:"
   ]
  },
  {
   "cell_type": "code",
   "execution_count": null,
   "metadata": {},
   "outputs": [],
   "source": [
    "x = 1         # assign variable x the value 1\n",
    "y = x + 5     # assign variable y the value of x plus 5\n",
    "z = y         # assign variable z the value of y"
   ]
  },
  {
   "cell_type": "markdown",
   "metadata": {},
   "source": [
    "These examples assign numbers to variables, but numbers are just one of several data types that Python supports. Notice there is no type declared for the variables. The reason is because Python is a *dynamically typed* language, which means the variable type is determined by the data assigned to it. In the examples above, the x, y, and z variables will be integer types, capable of storing positive and negative whole numbers.\n",
    "\n",
    "Variable names are case-sensitive and can use any letter, number, and the underscore `(_)` character, however they can't start with a number."
   ]
  },
  {
   "cell_type": "markdown",
   "metadata": {},
   "source": [
    "## Working with numbers\n",
    "Most programs manipulate numbers. Computers treat integer numbers and decimal numbers differently. Consider the following code:\n"
   ]
  },
  {
   "cell_type": "code",
   "execution_count": null,
   "metadata": {},
   "outputs": [],
   "source": [
    "x = 1       # integer\n",
    "x = 1.0     # decimal (floating point)"
   ]
  },
  {
   "cell_type": "markdown",
   "metadata": {},
   "source": [
    "Python creates integers from a built-in data typed called `int`, and decimals (floating-point numbers) as instances of `float`. Python's built-in `type()` function returns a variable's data type. The following code outputs types to the screen:\n",
    "\n"
   ]
  },
  {
   "cell_type": "code",
   "execution_count": null,
   "metadata": {},
   "outputs": [],
   "source": [
    "x = 1\n",
    "print(type(x)) # outputs: <class 'int'>\n",
    "\n",
    "x = 1.0\n",
    "print(type(x)) # outputs: <class 'float'>"
   ]
  },
  {
   "cell_type": "markdown",
   "metadata": {},
   "source": [
    "The addition of the \".0\" to the end of \"1\" makes a large difference in how the programming language treats a value. The data type impacts how the value is stored in memory, how the processor (CPU) handles the data when evaluating expressions, how the data relates to other data, and what kinds operations can be performed with it.\n",
    "\n"
   ]
  },
  {
   "cell_type": "markdown",
   "metadata": {},
   "source": [
    "## Working with booleans\n",
    "Another common data type is the Boolean type, which holds the value `True` or `False`:"
   ]
  },
  {
   "cell_type": "code",
   "execution_count": null,
   "metadata": {},
   "outputs": [],
   "source": [
    "x = True\n",
    "print(type(x)) # outputs: <class 'bool'>"
   ]
  },
  {
   "cell_type": "markdown",
   "metadata": {},
   "source": [
    "Internally, `bool` is treated as a special type of integer. Technically, `True` has a value of 1 and `False` has a value of 0. Typically, Booleans are not used to perform mathematical operations; rather, they are used to make decisions and perform branching. Nevertheless, it is interesting to understand the relationship between types. Many types are nothing more than specialized versions of more general types. Integers are a subset of floating point numbers, and Booleans are a subset of integers.\n",
    "\n"
   ]
  },
  {
   "cell_type": "markdown",
   "metadata": {},
   "source": [
    "## Working with strings\n",
    "Along with numbers, strings are among the most commonly used data types. A string is a collection of zero or more characters. Strings are commonly declared using single quotation marks, but double quotation marks may be used, too:\n",
    "\n"
   ]
  },
  {
   "cell_type": "code",
   "execution_count": null,
   "metadata": {},
   "outputs": [],
   "source": [
    "x = 'This is a string'\n",
    "print(x) # outputs: This is a string\n",
    "print(type(x)) # outputs: <class 'str'>\n",
    "y = \"This is also a string\""
   ]
  },
  {
   "cell_type": "markdown",
   "metadata": {},
   "source": [
    "Strings can be added to other strings (an operation known as \"concatenation\") with the same + operator that adds two numbers:\n",
    "\n"
   ]
  },
  {
   "cell_type": "code",
   "execution_count": null,
   "metadata": {},
   "outputs": [],
   "source": [
    "x = 'Hello' + ' ' + 'World!'\n",
    "print(x) # outputs: Hello World!"
   ]
  },
  {
   "cell_type": "markdown",
   "metadata": {},
   "source": [
    "You will learn more about strings in another lesson, including how to parse them and how to manipulate them in various ways. You will also learn about other important data types such as lists, which store collections of data and are frequently used to hold collections of strings.\n",
    "\n"
   ]
  },
  {
   "cell_type": "markdown",
   "metadata": {},
   "source": [
    "## Print to the console\n",
    "In Python, the `print` function, which is one of more than 60 functions built into the language, outputs text to the screen.\n",
    "\n",
    "The following statement displays \"Hello World!\" on the screen:\n",
    "\n"
   ]
  },
  {
   "cell_type": "code",
   "execution_count": null,
   "metadata": {},
   "outputs": [],
   "source": [
    "print('Hello World!')"
   ]
  },
  {
   "cell_type": "markdown",
   "metadata": {},
   "source": [
    "The argument passed to `print` is a *string*, which is one of the fundamental data types in Python used to store and manage text. By default, `print` outputs a newline character at the end of the line so that subsequent calls to `print`, will start on the next line.\n",
    "\n"
   ]
  },
  {
   "cell_type": "markdown",
   "metadata": {},
   "source": [
    "# Exercise output\n",
    "In this exercise you will use the REPL to declare variables and run statements.\n",
    "\n"
   ]
  },
  {
   "cell_type": "markdown",
   "metadata": {},
   "source": [
    "## Try your first Python statement\n",
    "Python supports an interactive console experience, which allows you to type in commands and see the results immediately.\n",
    "\n",
    "1. In a console, type `python` to start the Python interpreter in the interactive mode.\n",
    "\n",
    "You should see output that looks similar to:\n",
    "\n"
   ]
  },
  {
   "cell_type": "code",
   "execution_count": null,
   "metadata": {},
   "outputs": [],
   "source": [
    "Python 3.5.2 (default, Nov 12 2018, 13:43:14)\n",
    "[GCC 5.4.0 20160609] on linux\n",
    "Type \"help\", \"copyright\", \"credits\" or \"license\" for more information.\n",
    ">>>"
   ]
  },
  {
   "cell_type": "markdown",
   "metadata": {},
   "source": [
    "The `>>>` is the interpreter waiting for you to type a Python command.\n",
    "\n",
    "2. Type the following statement into the interpreter.\n",
    "\n"
   ]
  },
  {
   "cell_type": "code",
   "execution_count": null,
   "metadata": {},
   "outputs": [],
   "source": [
    "print('Hello World!')"
   ]
  },
  {
   "cell_type": "markdown",
   "metadata": {},
   "source": [
    "It should echo the text directly back to you and then put another prompt waiting for the next command.\n",
    "\n"
   ]
  },
  {
   "cell_type": "code",
   "execution_count": null,
   "metadata": {},
   "outputs": [],
   "source": [
    "Hello World!\n",
    ">>>"
   ]
  },
  {
   "cell_type": "markdown",
   "metadata": {},
   "source": [
    "## Declare and output variables\n",
    "With the REPL running, let's create variables next.\n",
    "\n",
    "1. Type the following code, to declare a variable:\n",
    "\n"
   ]
  },
  {
   "cell_type": "code",
   "execution_count": null,
   "metadata": {},
   "outputs": [],
   "source": [
    "PI = 3.14"
   ]
  },
  {
   "cell_type": "markdown",
   "metadata": {},
   "source": [
    "2. Type the name of the variable `PI`, to echo out its value:\n",
    "\n"
   ]
  },
  {
   "cell_type": "code",
   "execution_count": null,
   "metadata": {},
   "outputs": [],
   "source": [
    "PI"
   ]
  },
  {
   "cell_type": "markdown",
   "metadata": {},
   "source": [
    "Your output should show its value:\n",
    "\n"
   ]
  },
  {
   "cell_type": "code",
   "execution_count": null,
   "metadata": {},
   "outputs": [],
   "source": [
    "3.14"
   ]
  },
  {
   "cell_type": "markdown",
   "metadata": {},
   "source": [
    "# Reading keyboard input\n",
    "Many programs are interactive. Supporting interactivity means you have a program that runs differently depending on what the input is. The one inputting data to a program is usually a user, but it can be another program for example. There are many ways to send input to a program, two common ways are via a graphical interface or a console.\n",
    "\n"
   ]
  },
  {
   "cell_type": "markdown",
   "metadata": {},
   "source": [
    "## User input\n",
    "For reading input from the keyboard, Python provides the `input()` function. `input()` reads what the user types on the keyboard and returns it as a string. Here is an example that combines `input()` and `print()` to capture a person's name and then display it on the screen:\n",
    "\n"
   ]
  },
  {
   "cell_type": "code",
   "execution_count": null,
   "metadata": {},
   "outputs": [],
   "source": [
    "name = input('Enter your name:')\n",
    "print(name)"
   ]
  },
  {
   "cell_type": "markdown",
   "metadata": {},
   "source": [
    "The string passed as an argument to the `input` function is the prompt that the user will see. In this example, you are asking the user to type their name ('Enter your name'). Once the user types a name and presses `Enter`, the `input` function will return. The function's return value is the text that the user typed, and that text is assigned to the variable named `name`. The `name` variable is then used as an input or argument to the `print` function, which will output the name that the user entered.\n",
    "\n",
    "You can also call the `input` function without a parameter:\n",
    "\n"
   ]
  },
  {
   "cell_type": "code",
   "execution_count": null,
   "metadata": {},
   "outputs": [],
   "source": [
    "print('What is your name?')\n",
    "name = input()\n",
    "print(name)"
   ]
  },
  {
   "cell_type": "markdown",
   "metadata": {},
   "source": [
    "This program will behave *almost* the same as the first one. The difference is that `print` (by default) adds a newline to the output.\n",
    "\n"
   ]
  },
  {
   "cell_type": "markdown",
   "metadata": {},
   "source": [
    "## Reading numbers as input\n",
    "The `input` function always returns the typed value as a *string* (text). This choice makes sense because the user can enter whatever value they like. Even if the input *is* a valid number, it's still returned as a string type from the `input` function. For example:\n",
    "\n"
   ]
  },
  {
   "cell_type": "code",
   "execution_count": null,
   "metadata": {},
   "outputs": [],
   "source": [
    "x = input('Enter a number: ')\n",
    "print(type(x))"
   ]
  },
  {
   "cell_type": "markdown",
   "metadata": {},
   "source": [
    "Running this code and entering the value '5' would display `<class 'str'>` even though the value itself is numeric. To turn the value into a true integer variable, you can use the `int()` function:\n",
    "\n"
   ]
  },
  {
   "cell_type": "code",
   "execution_count": null,
   "metadata": {},
   "outputs": [],
   "source": [
    "x = int(input('Enter a number: '))\n",
    "print(type(x))"
   ]
  },
  {
   "cell_type": "markdown",
   "metadata": {},
   "source": [
    "This code will output `<class 'int'>` for the value '5'. You can use the `float` function in the same way if you expect a fractional component.\n",
    "\n"
   ]
  },
  {
   "cell_type": "markdown",
   "metadata": {},
   "source": [
    "### <font color=aqua> Important</font>\n",
    "\n",
    "What if the input *isn't* numeric and you pass it to the `int()` function? As you might expect, this would be an error and cause a runtime failure. The program will end at this statement - you can try it yourself in the Python interactive console. We'll cover various solutions to handling these sorts of errors in future modules."
   ]
  },
  {
   "cell_type": "markdown",
   "metadata": {},
   "source": [
    "## Converting numbers to strings\n",
    "You can go the other direction as well. The `str()` method will take an integer or float value and turn it into a string. Calling the `str()` method is needed if you want the below code example to work. The conversion ensures the integer, in its string form, is concatenated to the string on the left.\n",
    "\n"
   ]
  },
  {
   "cell_type": "code",
   "execution_count": null,
   "metadata": {},
   "outputs": [],
   "source": [
    "x = 5\n",
    "print('The number is ' + str(x))"
   ]
  },
  {
   "cell_type": "markdown",
   "metadata": {},
   "source": [
    "# Exercise - Build a calculator\n",
    "In this exercise, you will learn to build a calculator. A calculator takes input and present the result on the screen.\n",
    "\n",
    "1. Start the REPL by typing `python`:\n",
    "\n"
   ]
  },
  {
   "cell_type": "code",
   "execution_count": null,
   "metadata": {},
   "outputs": [],
   "source": [
    "python"
   ]
  },
  {
   "cell_type": "markdown",
   "metadata": {},
   "source": [
    "You should see output that looks similar to:\n",
    "\n",
    "Python 3.5.2 (default, Nov 12 2018, 13:43:14)\n",
    "<br>[GCC 5.4.0 20160609] on linux\n",
    "<br>Type \"help\", \"copyright\", \"credits\" or \"license\" for more information.\n",
    "<br>`>>>`\n",
    "\n",
    "2. Copy the following code into the REPL, as is:\n",
    "\n"
   ]
  },
  {
   "cell_type": "code",
   "execution_count": null,
   "metadata": {},
   "outputs": [],
   "source": [
    "first_number = int(input('Type the first number: ')) ;\\\n",
    "second_number = int(input('Type the second number: ')) ;\\\n",
    "print(\"The sum is: \", first_number + second_number)"
   ]
  },
  {
   "cell_type": "markdown",
   "metadata": {},
   "source": [
    "You should see the following output:"
   ]
  },
  {
   "cell_type": "code",
   "execution_count": null,
   "metadata": {},
   "outputs": [],
   "source": [
    ">>> first_number = int(input('Type the first number: ')) ;\\\n",
    "...    second_number = int(input('Type the second number: ')) ;\\\n",
    "...    print(\"The sum is: \", first_number + second_number)\n",
    "Type the first number:"
   ]
  },
  {
   "cell_type": "markdown",
   "metadata": {},
   "source": [
    "The characters `;\\`, at the end of the first two statements, signals that there are many lines of code and will let you input all of it, line by line. The code also runs and as you can see, asks you for the first input.\n",
    "\n",
    "Complete the first input by typing first **2** and selecting `ENTER`.\n",
    "\n",
    "You should see the following output:\n",
    "\n"
   ]
  },
  {
   "cell_type": "code",
   "execution_count": null,
   "metadata": {},
   "outputs": [],
   "source": [
    "Type the first number: 2"
   ]
  },
  {
   "cell_type": "markdown",
   "metadata": {},
   "source": [
    "Now, complete the second input, by typing **3** and selecting `ENTER`.\n",
    "\n",
    "You should see the following output:\n",
    "\n"
   ]
  },
  {
   "cell_type": "code",
   "execution_count": null,
   "metadata": {},
   "outputs": [],
   "source": [
    "Type the second number: 3 \n",
    "The sum is:  5\n",
    ">>>"
   ]
  },
  {
   "cell_type": "markdown",
   "metadata": {},
   "source": [
    "Congratulations, you've created a calculator program.\n",
    "\n"
   ]
  }
 ],
 "metadata": {
  "interpreter": {
   "hash": "b89b5cfaba6639976dc87ff2fec6d58faec662063367e2c229c520fe71072417"
  },
  "kernelspec": {
   "display_name": "Python 3.10.2 64-bit",
   "language": "python",
   "name": "python3"
  },
  "language_info": {
   "codemirror_mode": {
    "name": "ipython",
    "version": 3
   },
   "file_extension": ".py",
   "mimetype": "text/x-python",
   "name": "python",
   "nbconvert_exporter": "python",
   "pygments_lexer": "ipython3",
   "version": "3.10.2"
  },
  "orig_nbformat": 4
 },
 "nbformat": 4,
 "nbformat_minor": 2
}
