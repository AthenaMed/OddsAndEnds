{
 "cells": [
  {
   "cell_type": "markdown",
   "metadata": {},
   "source": [
    "# Introduction to object-oriented programming with Python\n",
    "This module will teach you how to model problems by using object-oriented programming (OOP) concepts. You'll also learn to turn your model into working code by using OOP concepts like classes, attributes, and methods.\n",
    "\n",
    "#### Learning objectives\n",
    "After completing this module, you'll be able to:\n",
    "\n",
    "- Model problems by using OOP concepts.\n",
    "- Describe the basic concepts involved in OOP.\n",
    "- Distinguish classes from objects.\n",
    "\n",
    "#### Prerequisites\n",
    "- Basic knowledge of Python - syntax, writing and invoking functions, creating variables, reading inputs, and generating outputs from the Python console\n",
    "- Familiarity with using a text editor or IDE\n",
    "- Knowledge on how to execute a Python program\n",
    "- Python keywords\n",
    "- Knowing how to raise exceptions in Python\n",
    "\n",
    "#### This module is part of these learning paths\n",
    "https://docs.microsoft.com/learn/paths/python-language/"
   ]
  }
 ],
 "metadata": {
  "language_info": {
   "name": "python"
  },
  "orig_nbformat": 4
 },
 "nbformat": 4,
 "nbformat_minor": 2
}
