{
 "cells": [
  {
   "cell_type": "markdown",
   "metadata": {},
   "source": [
    "# Introduction to object-oriented programming with Python\n",
    "This module will teach you how to model problems by using object-oriented programming (OOP) concepts. You'll also learn to turn your model into working code by using OOP concepts like classes, attributes, and methods.\n",
    "\n",
    "#### Learning objectives\n",
    "After completing this module, you'll be able to:\n",
    "\n",
    "- Model problems by using OOP concepts.\n",
    "- Describe the basic concepts involved in OOP.\n",
    "- Distinguish classes from objects.\n",
    "\n",
    "#### Prerequisites\n",
    "- Basic knowledge of Python - syntax, writing and invoking functions, creating variables, reading inputs, and generating outputs from the Python console\n",
    "- Familiarity with using a text editor or IDE\n",
    "- Knowledge on how to execute a Python program\n",
    "- Python keywords\n",
    "- Knowing how to raise exceptions in Python\n",
    "\n",
    "#### This module is part of these learning paths\n",
    "https://docs.microsoft.com/learn/paths/python-language/"
   ]
  },
  {
   "cell_type": "markdown",
   "metadata": {},
   "source": [
    "# Introduction\n",
    "\n",
    "Object-oriented programming (OOP) is a programming paradigm that you can use to model the real world in code. There are several benefits to using this paradigm. With OOP, you can create implementations that are easy to modify and extend with less code.\n",
    "\n",
    "As part of a development team, you'll write code that solves small problems along with large and more intricate problems. OOP is one programming paradigm out of many, but it does have some interesting constructs and principles that will help frame your thinking.\n",
    "\n",
    "You decide to evaluate OOP by applying it on a small and defined problem, a game of rock, paper, scissors, to see if it's a fit for you and your team.\n",
    "\n"
   ]
  },
  {
   "cell_type": "markdown",
   "metadata": {},
   "source": [
    "# Learning Objectives\n",
    "\n",
    "After you complete this module, you'll be able to:\n",
    "\n",
    "- Model problems by using OOP concepts.\n",
    "- Describe the basic concepts involved in OOP.\n",
    "- Distinguish classes from objects.\n"
   ]
  },
  {
   "cell_type": "markdown",
   "metadata": {},
   "source": [
    "# What is object-oriented programming?\n",
    "\n",
    "Object-oriented programming (OOP) is a programming paradigm. It's based on the idea of grouping related data and functions into \"islands\" of information. These islands are known as objects.\n",
    "\n",
    "No matter which paradigm is used, programs use the same series of steps to solve problems:\n",
    "\n",
    "1. Data input: Data is read from somewhere, which could be data storage like a file system or a database.\n",
    "2. Processing: Data is interpreted and possibly altered to be prepared for display.\n",
    "3. Data output: Data is presented so that it can be read and interacted with either by a physical user or a system."
   ]
  },
  {
   "cell_type": "markdown",
   "metadata": {},
   "source": [
    "## OOP vs. procedural programming\n",
    "\n",
    "OOP vs. procedural programming\n",
    "\n",
    "The OOP paradigm is no different in that aspect. What makes it stand out is how it looks at the world. Compared to procedural programming, OOP takes a step back and looks at the bigger picture. Instead of working on data and taking it from one phase to the next, OOP tries to understand the world in which the data operates. It does so by *modeling* what it sees.\n",
    "\n"
   ]
  },
  {
   "cell_type": "markdown",
   "metadata": {},
   "source": [
    "## OOP modeling: Identify concepts\n",
    "\n",
    "During the modeling phase, you look at a description of a domain and try to analyze the text on what takes place. The first step is to identify actors. They're called actors because they *act* and perform an action. For example, a printer (actor) prints (action).\n",
    "\n",
    "After actors are identified, you look at *what* they do, which is their behavior. Then you look at descriptions of the actors and any data that's needed to carry out the action. Actors are made into objects, the traits are encoded as data on the objects, and the behaviors are functions that also get added to the object.\n",
    "\n",
    "![Printer](printer.png)"
   ]
  },
  {
   "cell_type": "markdown",
   "metadata": {},
   "source": [
    "## Benefits of OOP\n",
    "\n",
    "So why use OOP? Why not use some other paradigm? To be clear, OOP isn't better or worse than any other paradigm. There are pros and cons to everything. OOP does have some nice benefits, and here are some of those benefits:\n",
    "\n",
    "- **Data encapsulation**: Data encapsulation is about hiding data away from the rest of the system and only allowing access to parts of it. The reason is data holds state, and that state can be made up of one or more variables. If these variables need to be changed at the same time, you need to protect them and only allow access via public methods so that changes are made in a predictable way. OOP has mechanisms like access levels, where data that's on an object can only be accessed by the object itself or can be made publicly available.\n",
    "- **Simplicity**: Building large systems is a complex task, with many problems to solve. Being able to break down the complexity into smaller problems, to objects, means you can simplify the overall task.\n",
    "- **Easy to modify**: When you rely on objects and model your system with them, it's easier to track down what parts of the system need modifying. For example, you might need to correct a bug or add a new feature.\n",
    "- **Maintainability**: Maintaining code in general is hard, and it becomes harder over time. It requires discipline in the form of good naming and a clear and consistent architecture, among other things. Using objects makes it easier to locate a specific area of your code that needs maintaining.\n",
    "- **Reusability**: An object's definition can be used many times in many parts of your system or potentially in other systems too. When you reuse code, you save time and money because you need to write less code and you reach your target faster."
   ]
  },
  {
   "cell_type": "markdown",
   "metadata": {},
   "source": [
    "## Model an OOP system\n",
    "\n",
    "Software is often written to address a need to make something faster, more efficient, and less error prone. People simply can't compete with software when it comes to speeding up a process in certain cases. Using OOP is as much a modeling exercise as it is about writing the code to implement its logic. Modeling is about learning to identify the actors, the data needed, and what type of interaction that's taking place. You can model a system just by reading a description of it.\n",
    "\n"
   ]
  },
  {
   "cell_type": "markdown",
   "metadata": {},
   "source": [
    "## Invoice management system case study\n",
    "\n",
    "Let's look at a manual flow that many companies struggle with, namely, *invoice management*. Many companies receive invoices, and they need to be paid on time. Late payments incur late fees, which result in wasted money. Before an invoice can be paid, it must be *processed*. It's common for an invoice to pass through a few hands before it ends up being registered somewhere and payment is made.\n",
    "\n",
    "The process usually starts with an initial sorting phase where the invoice is sent to the appropriate department. Next, the invoice is checked for correctness and then approved by someone who has the proper authorization level. Lastly, the invoice is paid. For a small business, the business owner might do all of the steps. In a large company, many people and processes might be involved, which makes invoice management a complex activity.\n",
    "\n",
    "![sort-invoice](sort-invoice.png)\n",
    "\n",
    "What does this description have to do with OOP? If you took the preceding workflow, which is often a manual flow, and turned it into written software, the first thing you would do is try to model the system. With the context of invoice management, you can start seeing actors (objects), behaviors, and data by reading a description of the problem domain.\n",
    "\n",
    "If you think about the described domain as having phases, input, processing, and output, you can start to fill things in like in the following table:\n",
    "\n",
    "\n",
    "|Phase    |What     |\n",
    "|---------|---------|\n",
    "|Input    |Invoice  |\n",
    "|Processing|Sorting, Approval, Rejection|\n",
    "|Output   |Payment  |\n",
    "\n",
    "The preceding table describes what goes on at each phase. You've been able to find the data, things that happen to the data during processing, and what the ultimate result is, which is a payment. At this point, you can still solve the invoice management system workflow with any paradigm you like. How do you take it from here into OOP?\n",
    "\n"
   ]
  },
  {
   "cell_type": "markdown",
   "metadata": {},
   "source": [
    "## Find objects, data, and behavior\n",
    "\n",
    "You find the different artifacts of your system by asking questions like:\n",
    "\n",
    "- Who interacts with whom?\n",
    "- Who does what to whom?\n",
    "\n",
    "With such questions in mind, you can come up with statements. Let's highlight the different artifacts in these statements so it becomes clear what parts are important to our system.\n",
    "\n",
    "1. The *mail service delivers* an *invoice* to the system.\n",
    "\n",
    "2. The *invoice* is *sorted* by either a *reference code* or manually by a *sorter* to ensure it ends up in the correct department.\n",
    "\n",
    "3. The *invoice* is *approved* or *rejected* by an *approver* based on factors like, for example, correctness and size of the *amount*.\n",
    "\n",
    "4. The *invoice* is paid by a *payment processor* by using the *payment information* provided.\n",
    "\n",
    "You can now extract objects, data, and behavior from the sentences and organize them in a table, like so:\n",
    "\n",
    "\n",
    "|Phase  |Actor  |Behavior  |Data  |\n",
    "|---------|---------|---------|---------|\n",
    "|Input     |Mail service |Delivers |Invoice |\n",
    "|Input     |System |Receives |Invoice |\n",
    "|Input     |Sorters or system |Sorts or routes\t|Invoice (reference code)|\n",
    "|Processing |Approver |Approves or rejects |Invoice (amount) |\n",
    "|Output     |Payment processor\t|Pays |Invoice (payment information) |\n",
    "\n",
    "A lot has happened to the initial description of the invoice management system. Actors (objects) have been found. Important data has been identified and *grouped* with identified objects. Behavior has also been found, which makes it clearer what actors (objects) interact with one another. As a result, you've been able to pinpoint *who* does what behavior to *whom*. You've done an initial analysis at this point, which is a great start. But the question remains, how do you turn this analysis into code? The answer to that question is what we will be solving throughout this module.\n",
    "\n",
    "> <span style=\"color:aqua\">[!NOTE]</span>\n",
    "<br>> An actual invoice management system is likely a lot more complex and could rely on much more data and logic. Being able to model a system this way means you have a structured approach to think about the problem.\n",
    "\n"
   ]
  }
 ],
 "metadata": {
  "interpreter": {
   "hash": "6b3dae2a1cb1eae8f70755aad29d75dfc74023634288a1a2ce83713a67e01fcc"
  },
  "kernelspec": {
   "display_name": "Python 3.10.3 64-bit",
   "language": "python",
   "name": "python3"
  },
  "language_info": {
   "name": "python",
   "version": "3.10.3"
  },
  "orig_nbformat": 4
 },
 "nbformat": 4,
 "nbformat_minor": 2
}
