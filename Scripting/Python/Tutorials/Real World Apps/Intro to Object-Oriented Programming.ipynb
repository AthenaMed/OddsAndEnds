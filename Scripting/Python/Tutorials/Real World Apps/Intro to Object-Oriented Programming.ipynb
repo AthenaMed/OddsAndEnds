{
 "cells": [
  {
   "cell_type": "markdown",
   "metadata": {},
   "source": [
    "# Introduction to object-oriented programming with Python\n",
    "This module will teach you how to model problems by using object-oriented programming (OOP) concepts. You'll also learn to turn your model into working code by using OOP concepts like classes, attributes, and methods.\n",
    "\n",
    "#### Learning objectives\n",
    "After completing this module, you'll be able to:\n",
    "\n",
    "- Model problems by using OOP concepts.\n",
    "- Describe the basic concepts involved in OOP.\n",
    "- Distinguish classes from objects.\n",
    "\n",
    "#### Prerequisites\n",
    "- Basic knowledge of Python - syntax, writing and invoking functions, creating variables, reading inputs, and generating outputs from the Python console\n",
    "- Familiarity with using a text editor or IDE\n",
    "- Knowledge on how to execute a Python program\n",
    "- Python keywords\n",
    "- Knowing how to raise exceptions in Python\n",
    "\n",
    "#### This module is part of these learning paths\n",
    "https://docs.microsoft.com/learn/paths/python-language/"
   ]
  },
  {
   "cell_type": "markdown",
   "metadata": {},
   "source": [
    "## Introduction\n",
    "\n",
    "Object-oriented programming (OOP) is a programming paradigm that you can use to model the real world in code. There are several benefits to using this paradigm. With OOP, you can create implementations that are easy to modify and extend with less code.\n",
    "\n",
    "As part of a development team, you'll write code that solves small problems along with large and more intricate problems. OOP is one programming paradigm out of many, but it does have some interesting constructs and principles that will help frame your thinking.\n",
    "\n",
    "You decide to evaluate OOP by applying it on a small and defined problem, a game of rock, paper, scissors, to see if it's a fit for you and your team.\n",
    "\n"
   ]
  },
  {
   "cell_type": "markdown",
   "metadata": {},
   "source": [
    "## Learning Objectives\n",
    "\n",
    "After you complete this module, you'll be able to:\n",
    "\n",
    "- Model problems by using OOP concepts.\n",
    "- Describe the basic concepts involved in OOP.\n",
    "- Distinguish classes from objects.\n"
   ]
  },
  {
   "cell_type": "markdown",
   "metadata": {},
   "source": [
    "## What is object-oriented programming?\n",
    "\n",
    "Object-oriented programming (OOP) is a programming paradigm. It's based on the idea of grouping related data and functions into \"islands\" of information. These islands are known as objects.\n",
    "\n",
    "No matter which paradigm is used, programs use the same series of steps to solve problems:\n",
    "\n",
    "1. Data input: Data is read from somewhere, which could be data storage like a file system or a database.\n",
    "2. Processing: Data is interpreted and possibly altered to be prepared for display.\n",
    "3. Data output: Data is presented so that it can be read and interacted with either by a physical user or a system."
   ]
  },
  {
   "cell_type": "markdown",
   "metadata": {},
   "source": [
    "### OOP vs. procedural programming\n",
    "\n",
    "OOP vs. procedural programming\n",
    "\n",
    "The OOP paradigm is no different in that aspect. What makes it stand out is how it looks at the world. Compared to procedural programming, OOP takes a step back and looks at the bigger picture. Instead of working on data and taking it from one phase to the next, OOP tries to understand the world in which the data operates. It does so by *modeling* what it sees.\n",
    "\n"
   ]
  },
  {
   "cell_type": "markdown",
   "metadata": {},
   "source": [
    "### OOP modeling: Identify concepts\n",
    "\n",
    "During the modeling phase, you look at a description of a domain and try to analyze the text on what takes place. The first step is to identify actors. They're called actors because they *act* and perform an action. For example, a printer (actor) prints (action).\n",
    "\n",
    "After actors are identified, you look at *what* they do, which is their behavior. Then you look at descriptions of the actors and any data that's needed to carry out the action. Actors are made into objects, the traits are encoded as data on the objects, and the behaviors are functions that also get added to the object.\n",
    "\n",
    "![Printer](printer.png)"
   ]
  },
  {
   "cell_type": "markdown",
   "metadata": {},
   "source": [
    "### Benefits of OOP\n",
    "\n",
    "So why use OOP? Why not use some other paradigm? To be clear, OOP isn't better or worse than any other paradigm. There are pros and cons to everything. OOP does have some nice benefits, and here are some of those benefits:\n",
    "\n",
    "- **Data encapsulation**: Data encapsulation is about hiding data away from the rest of the system and only allowing access to parts of it. The reason is data holds state, and that state can be made up of one or more variables. If these variables need to be changed at the same time, you need to protect them and only allow access via public methods so that changes are made in a predictable way. OOP has mechanisms like access levels, where data that's on an object can only be accessed by the object itself or can be made publicly available.\n",
    "- **Simplicity**: Building large systems is a complex task, with many problems to solve. Being able to break down the complexity into smaller problems, to objects, means you can simplify the overall task.\n",
    "- **Easy to modify**: When you rely on objects and model your system with them, it's easier to track down what parts of the system need modifying. For example, you might need to correct a bug or add a new feature.\n",
    "- **Maintainability**: Maintaining code in general is hard, and it becomes harder over time. It requires discipline in the form of good naming and a clear and consistent architecture, among other things. Using objects makes it easier to locate a specific area of your code that needs maintaining.\n",
    "- **Reusability**: An object's definition can be used many times in many parts of your system or potentially in other systems too. When you reuse code, you save time and money because you need to write less code and you reach your target faster."
   ]
  },
  {
   "cell_type": "markdown",
   "metadata": {},
   "source": [
    "### Model an OOP system\n",
    "\n",
    "Software is often written to address a need to make something faster, more efficient, and less error prone. People simply can't compete with software when it comes to speeding up a process in certain cases. Using OOP is as much a modeling exercise as it is about writing the code to implement its logic. Modeling is about learning to identify the actors, the data needed, and what type of interaction that's taking place. You can model a system just by reading a description of it.\n",
    "\n"
   ]
  },
  {
   "cell_type": "markdown",
   "metadata": {},
   "source": [
    "## Invoice management system case study\n",
    "\n",
    "Let's look at a manual flow that many companies struggle with, namely, *invoice management*. Many companies receive invoices, and they need to be paid on time. Late payments incur late fees, which result in wasted money. Before an invoice can be paid, it must be *processed*. It's common for an invoice to pass through a few hands before it ends up being registered somewhere and payment is made.\n",
    "\n",
    "The process usually starts with an initial sorting phase where the invoice is sent to the appropriate department. Next, the invoice is checked for correctness and then approved by someone who has the proper authorization level. Lastly, the invoice is paid. For a small business, the business owner might do all of the steps. In a large company, many people and processes might be involved, which makes invoice management a complex activity.\n",
    "\n",
    "![sort-invoice](sort-invoice.png)\n",
    "\n",
    "What does this description have to do with OOP? If you took the preceding workflow, which is often a manual flow, and turned it into written software, the first thing you would do is try to model the system. With the context of invoice management, you can start seeing actors (objects), behaviors, and data by reading a description of the problem domain.\n",
    "\n",
    "If you think about the described domain as having phases, input, processing, and output, you can start to fill things in like in the following table:\n",
    "\n",
    "\n",
    "|Phase    |What     |\n",
    "|---------|---------|\n",
    "|Input    |Invoice  |\n",
    "|Processing|Sorting, Approval, Rejection|\n",
    "|Output   |Payment  |\n",
    "\n",
    "The preceding table describes what goes on at each phase. You've been able to find the data, things that happen to the data during processing, and what the ultimate result is, which is a payment. At this point, you can still solve the invoice management system workflow with any paradigm you like. How do you take it from here into OOP?\n",
    "\n"
   ]
  },
  {
   "cell_type": "markdown",
   "metadata": {},
   "source": [
    "### Find objects, data, and behavior\n",
    "\n",
    "You find the different artifacts of your system by asking questions like:\n",
    "\n",
    "- Who interacts with whom?\n",
    "- Who does what to whom?\n",
    "\n",
    "With such questions in mind, you can come up with statements. Let's highlight the different artifacts in these statements so it becomes clear what parts are important to our system.\n",
    "\n",
    "1. The *mail service delivers* an *invoice* to the system.\n",
    "\n",
    "2. The *invoice* is *sorted* by either a *reference code* or manually by a *sorter* to ensure it ends up in the correct department.\n",
    "\n",
    "3. The *invoice* is *approved* or *rejected* by an *approver* based on factors like, for example, correctness and size of the *amount*.\n",
    "\n",
    "4. The *invoice* is paid by a *payment processor* by using the *payment information* provided.\n",
    "\n",
    "You can now extract objects, data, and behavior from the sentences and organize them in a table, like so:\n",
    "\n",
    "\n",
    "|Phase  |Actor  |Behavior  |Data  |\n",
    "|---------|---------|---------|---------|\n",
    "|Input     |Mail service |Delivers |Invoice |\n",
    "|Input     |System |Receives |Invoice |\n",
    "|Input     |Sorters or system |Sorts or routes\t|Invoice (reference code)|\n",
    "|Processing |Approver |Approves or rejects |Invoice (amount) |\n",
    "|Output     |Payment processor\t|Pays |Invoice (payment information) |\n",
    "\n",
    "A lot has happened to the initial description of the invoice management system. Actors (objects) have been found. Important data has been identified and *grouped* with identified objects. Behavior has also been found, which makes it clearer what actors (objects) interact with one another. As a result, you've been able to pinpoint *who* does what behavior to *whom*. You've done an initial analysis at this point, which is a great start. But the question remains, how do you turn this analysis into code? The answer to that question is what we will be solving throughout this module.\n",
    "\n",
    "> <span style=\"color:aqua\">[!NOTE]</span>\n",
    "<br>> An actual invoice management system is likely a lot more complex and could rely on much more data and logic. Being able to model a system this way means you have a structured approach to think about the problem.\n",
    "\n"
   ]
  },
  {
   "cell_type": "markdown",
   "metadata": {},
   "source": [
    "## Use classes and variables to transfer your OOP model into code\n",
    "\n",
    "You want to evaluate object-oriented programming (OOP) by building the game rock, paper, scissors. To do so, you first need to model it in an OOP format.\n",
    "\n",
    "We'll need to apply some fundamental OOP concepts, such as classes, objects, and state. This unit explores the following parts:\n",
    "\n",
    "- Important OOP concepts: To reason in OOP, you need to understand some fundamental concepts like classes, objects, and state. You need to know what the difference is between them and how they relate to one another.\n",
    "- Variables in OOP: You need to know how to deal with variables and how to add them to your objects."
   ]
  },
  {
   "cell_type": "markdown",
   "metadata": {},
   "source": [
    "#### What is an object?\n",
    "\n",
    "The concept of objects has been mentioned a few times already as part of trying to model problem domains. An object is an actor. It's something that does something within a system. As a result of taking an action, it changes state within itself or other objects.\n",
    "\n",
    "Let's imagine an object in the real world. You're in a car park, and what do you see? You're likely to see many cars, in different shapes, sizes, and colors. To describe a car, you can use properties like make, model, color, and type of car. If you assign values to these properties, it quickly becomes clear whether you're talking about a red Ferrari, or a four-wheel-drive Jeep, or a yellow Mustang, and so on.\n",
    "\n",
    "![car](car.png)\n",
    "\n",
    "In another scene, picture a deck of cards in Las Vegas. You look at two different cards, which are two objects. You realize they have some common properties, namely, suit. The suit for the objects can be clubs, hearts, diamonds, or spades. Their values can be ace, king, nine, and so on.\n",
    "\n",
    "> <font color=lightgreen>[!TIP]</font>\n",
    "<br>> Look at your surroundings. Take two similar objects, like two books or two chairs, and see if you can find the properties that best describe them and tell them apart.\n",
    "\n"
   ]
  },
  {
   "cell_type": "markdown",
   "metadata": {},
   "source": [
    "#### What is a class?\n",
    "\n",
    "A class is a data type that acts as a template definition for a particular kind of object.\n",
    "\n",
    "You've learned that an OOP system has objects, and those objects have properties. There's a concept that's similar to an object, namely, a class. So what's a class? A class is a blueprint of an object. Where the class is the blueprint of a car, the object is the actual car you drive around. The class is what you write in code. The object is what you get when you tell the runtime environment to run your code.\n",
    "\n",
    "Here's a table of some examples of classes and their resulting objects:\n",
    "\n",
    "\n",
    "|Class  |Object  |\n",
    "|---------|---------|\n",
    "|Blueprint of a car\t     |Honda Accord, Jeep Wrangler         |\n",
    "|Cat     |Garfield the cat         |\n",
    "|Description of ice cream\t     |Strawberry, chocolate, or vanilla         |\n",
    "\n",
    "The way you go about creating an object from a class is similar to how you would create a car from a blueprint. When you create an object, your program asks the operating system for resources, namely, memory, to be able to construct the object. Conversely, when a car is made from a blueprint, the factory asks for resources like metal, rubber, and glass to be able to assemble the car.\n",
    "\n",
    "![car-assembly](car-assembly.png)"
   ]
  },
  {
   "cell_type": "markdown",
   "metadata": {},
   "source": [
    "### Create a class\n",
    "\n",
    "A class in Python is created by using the keyword `class` and giving it a name, like in this example:\n",
    "\n",
    "```python\n",
    "class Car:\n",
    "```\n"
   ]
  },
  {
   "cell_type": "markdown",
   "metadata": {},
   "source": [
    "#### Create an object from a class\n",
    "\n",
    "When you create an object from a class, you're said to *instantiate* it. What you're doing is asking the operating system, that with this template (the class) and these starter values, to give you enough memory and create an object. Essentially, instantiate is another word for create.\n",
    "\n",
    "To instantiate an object, you add parentheses to the name of the class. What you get is an object that you can choose to assign to a variable, like so:\n",
    "\n",
    "```python\n",
    "car = Car()\n",
    "```\n",
    "\n",
    "The `car` is the variable that holds your object's instance. The moment of instantiation, or object creation, is when you call `Car()`.\n",
    "\n"
   ]
  },
  {
   "cell_type": "markdown",
   "metadata": {},
   "source": [
    "### Variables in OOP vs. variables in procedural programs\n",
    "\n",
    "From procedural programming, you're used to having variables to hold information and keep track of state. You can define these variables wherever you need them in your file. The typical variable *initialization* can look like so:\n",
    "\n",
    "```python\n",
    "pi = 3.14\n",
    "```\n",
    "\n",
    "You have variables in OOP too, although they're attached to objects instead of being defined on their own. You refer to variables on an object as attributes. When an attribute is attached to an object, it's used in one of two ways:\n",
    "\n",
    "- **Describe the object**: An example of a *description* variable is, for example, the color of a car or the number of spots on a giraffe.\n",
    "- **Hold the state**: A variable can instead be used to describe an object's state. An example of a state is the floor of an elevator, or whether it's running or not."
   ]
  },
  {
   "cell_type": "markdown",
   "metadata": {},
   "source": [
    "### Add attributes to a class\n",
    "\n",
    "Knowing what attributes (variables) that should be added to your class is part of modeling. You've learned how to create a class in code, so how do you add an attribute to it? You need to tell the class what attributes it should have at construction time, when an object is being instantiated. There's a special function that's being called at the moment of creation, called a *constructor*.\n",
    "\n"
   ]
  },
  {
   "cell_type": "markdown",
   "metadata": {},
   "source": [
    "#### Constructor\n",
    "\n",
    "Many program languages have the notion of a constructor, the special function that's only invoked when the object is first being created. The constructor will be called only once. In this method, you create the attributes the object should have. Additionally, you assign any starter values to the created attributes.\n",
    "\n",
    "In Python, the constructor has the name `__init()__`. You also need to pass a special keyword, `self`, as a parameter to the constructor. The keyword `self` refers to the object's instance. Any assignment to this keyword means that the attribute ends up on the object instance. If you don't add an attribute to `self`, it will instead be treated as a temporary variable that won't exist after `__init()__` is done executing.\n",
    "\n",
    "> <font color =aqua>[!NOTE]</font>\n",
    "><br> They keyword self will also need to be passed to any methods that need to refer to anything on the object instance. This concept will be covered in the next unit.\n",
    "\n"
   ]
  },
  {
   "cell_type": "markdown",
   "metadata": {},
   "source": [
    "#### Add and initialize attributes on a class\n",
    "\n",
    "Let's see an example of setting up attributes in a constructor:\n",
    "\n",
    "```python\n",
    "class Elevator:\n",
    "  def __init__(self, starting_floor):\n",
    "    self.make = \"The elevator company\"\n",
    "    self.floor = starting_floor\n",
    "\n",
    "# To create the object\n",
    "\n",
    "elevator = Elevator(1)\n",
    "print(elevator.make) # \"The Elevator company\"\n",
    "print(elevator.floor) # 1\n",
    "```\n",
    "\n",
    "The preceding example describes the class `Elevator` with two variables, `make` and `floor`. An important takeaway from the code is that `__init__()` is called implicitly. You don't call the `__init__()` method by name, but it's called when the object is created, in this line of code:\n",
    "\n",
    "```python\n",
    "elevator = Elevator(1)\n",
    "```"
   ]
  },
  {
   "cell_type": "markdown",
   "metadata": {},
   "source": [
    "#### Incorrect use of `self`\n",
    "\n",
    "To emphasize how the keyword `self` works, consider the following code in which two attributes, `color` and `make`, are being assigned in the constructor `__init__()`:\n",
    "\n",
    "```python\n",
    "class Car:\n",
    "  def __init__():\n",
    "    self.color = \"Red\" # ends up on the object\n",
    "    make = \"Mercedes\" # becomes a local variable in the constructor\n",
    "\n",
    "car = Car()\n",
    "print(car.color) # \"Red\"\n",
    "print(car.make) # would result in an error, `make` does not exist on the object\n",
    "```\n",
    "\n",
    "If the purpose was to make both `color` and `make` attributes of the class `Car`, you would need to modify the code. In the constructor, ensure both attributes are assigned to `self`, like so:\n",
    "\n",
    "```python\n",
    "self.color = \"Red\" # ends up on the object\n",
    "self.make = \"Mercedes\"\n",
    "```\n",
    "\n",
    "> <font color =lightgreen>[!TIP]</font>\n",
    "><br> As a home exercise, try creating a class from a book you would read. Think about how you would write its class and what properties it should have.\n",
    "\n"
   ]
  }
 ],
 "metadata": {
  "interpreter": {
   "hash": "6b3dae2a1cb1eae8f70755aad29d75dfc74023634288a1a2ce83713a67e01fcc"
  },
  "kernelspec": {
   "display_name": "Python 3.10.3 64-bit",
   "language": "python",
   "name": "python3"
  },
  "language_info": {
   "name": "python",
   "version": "3.10.3"
  },
  "orig_nbformat": 4
 },
 "nbformat": 4,
 "nbformat_minor": 2
}
